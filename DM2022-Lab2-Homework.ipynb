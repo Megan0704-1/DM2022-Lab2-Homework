{
 "cells": [
  {
   "cell_type": "markdown",
   "metadata": {},
   "source": [
    "### Student Information\n",
    "Name: 郭玫均\n",
    "\n",
    "Student ID: 108048110\n",
    "\n",
    "GitHub ID: MeganKuo0704\n",
    "\n",
    "Kaggle name: Group21\n",
    "\n",
    "Kaggle private scoreboard snapshot: <td><img src=\"pics/82.png\" style=\"width: 300px;\"/> </td>\n",
    "\n",
    "[Snapshot](pics/82.png)"
   ]
  },
  {
   "cell_type": "markdown",
   "metadata": {},
   "source": [
    "---"
   ]
  },
  {
   "cell_type": "markdown",
   "metadata": {},
   "source": [
    "### Instructions"
   ]
  },
  {
   "cell_type": "markdown",
   "metadata": {},
   "source": [
    "1. First: __This part is worth 30% of your grade.__ Do the **take home** exercises in the [DM2022-Lab2-master Repo](https://github.com/keziatamus/DM2022-Lab2-Master). You may need to copy some cells from the Lab notebook to this notebook. \n",
    "\n",
    "\n",
    "2. Second: __This part is worth 30% of your grade.__ Participate in the in-class [Kaggle Competition](https://www.kaggle.com/competitions/dm2022-isa5810-lab2-homework) regarding Emotion Recognition on Twitter. The scoring will be given according to your place in the Private Leaderboard ranking: \n",
    "    - **Bottom 40%**: Get 20% of the 30% available for this section.\n",
    "\n",
    "    - **Top 41% - 100%**: Get (60-x)/6 + 20 points, where x is your ranking in the leaderboard (ie. If you rank 3rd your score will be (60-3)/6 + 20 = 29.5% out of 30%)   \n",
    "    Submit your last submission __BEFORE the deadline (Dec. 15th 11:59 pm, Tuesday)__. Make sure to take a screenshot of your position at the end of the competition and store it as '''pic0.png''' under the **img** folder of this repository and rerun the cell **Student Information**.\n",
    "    \n",
    "\n",
    "3. Third: __This part is worth 30% of your grade.__ A report of your work developping the model for the competition (You can use code and comment it). This report should include what your preprocessing steps, the feature engineering steps and an explanation of your model. You can also mention different things you tried and insights you gained. \n",
    "\n",
    "\n",
    "4. Fourth: __This part is worth 10% of your grade.__ It's hard for us to follow if your code is messy :'(, so please **tidy up your notebook** and **add minimal comments where needed**.\n",
    "\n",
    "\n",
    "Upload your files to your repository then submit the link to it on the corresponding e-learn assignment.\n",
    "\n",
    "Make sure to commit and save your changes to your repository __BEFORE the deadline (Dec. 18th 11:59 pm, Friday)__. "
   ]
  },
  {
   "cell_type": "markdown",
   "metadata": {},
   "source": [
    "## **Prerequisite**"
   ]
  },
  {
   "cell_type": "code",
   "execution_count": 47,
   "metadata": {},
   "outputs": [],
   "source": [
    "### Begin Assignment Here\n",
    "import pandas as pd\n",
    "import numpy as np\n",
    "import os\n",
    "import re\n",
    "from itertools import chain\n",
    "\n",
    "\n",
    "import tensorflow as tf\n",
    "import keras\n",
    "from sklearn.preprocessing import LabelEncoder\n",
    "from sklearn.model_selection import train_test_split\n",
    "import nltk\n",
    "from sklearn.feature_extraction.text import CountVectorizer\n",
    "from sklearn.metrics import accuracy_score\n",
    "from sklearn.preprocessing import MinMaxScaler\n",
    "from keras.layers import Attention, Embedding"
   ]
  },
  {
   "cell_type": "markdown",
   "metadata": {},
   "source": [
    "## **Take Home Exercise**"
   ]
  },
  {
   "cell_type": "markdown",
   "metadata": {
    "id": "escCgU1zYTpX"
   },
   "source": [
    "---\n",
    "### **Exercise 1 (Take home):**  \n",
    "Plot word frequency for Top 30 words in both train and test dataset. (Hint: refer to DM lab 1)\n"
   ]
  },
  {
   "cell_type": "code",
   "execution_count": null,
   "metadata": {
    "id": "anfjcPSSYTpX"
   },
   "outputs": [],
   "source": [
    "### training data\n",
    "anger_train = pd.read_csv(\"C:\\Users\\megan\\Desktop\\DSPMT\\DS\\Data Mining\\Lab2\\DM2022-Lab2-Master\\data\\semeval\\train\\anger-ratings-0to1.train.txt\",\n",
    "                         sep=\"\\t\", header=None,names=[\"id\", \"text\", \"emotion\", \"intensity\"])\n",
    "sadness_train = pd.read_csv(\"C:\\Users\\megan\\Desktop\\DSPMT\\DS\\Data Mining\\Lab2\\DM2022-Lab2-Master\\data\\semeval\\train\\sadness-ratings-0to1.train.txt\",\n",
    "                         sep=\"\\t\", header=None, names=[\"id\", \"text\", \"emotion\", \"intensity\"])\n",
    "fear_train = pd.read_csv(\"C:\\Users\\megan\\Desktop\\DSPMT\\DS\\Data Mining\\Lab2\\DM2022-Lab2-Master\\data\\semeval\\train\\fear-ratings-0to1.train.txt\",\n",
    "                         sep=\"\\t\", header=None, names=[\"id\", \"text\", \"emotion\", \"intensity\"])\n",
    "joy_train = pd.read_csv(\"C:\\Users\\megan\\Desktop\\DSPMT\\DS\\Data Mining\\Lab2\\DM2022-Lab2-Master\\data\\semeval\\train\\joy-ratings-0to1.train.txt\",\n",
    "                         sep=\"\\t\", header=None, names=[\"id\", \"text\", \"emotion\", \"intensity\"])"
   ]
  },
  {
   "cell_type": "code",
   "execution_count": null,
   "metadata": {
    "id": "yVc2T5MIYTpX"
   },
   "outputs": [],
   "source": [
    "# combine 4 sub-dataset\n",
    "train_df = pd.concat([anger_train, fear_train, joy_train, sadness_train], ignore_index=True)"
   ]
  },
  {
   "cell_type": "code",
   "execution_count": null,
   "metadata": {
    "colab": {
     "base_uri": "https://localhost:8080/",
     "height": 206
    },
    "id": "Kw8bGMv7YTpX",
    "outputId": "9f6f7052-302e-4794-ef69-b84450b61b36"
   },
   "outputs": [
    {
     "data": {
      "text/html": [
       "<div>\n",
       "<style scoped>\n",
       "    .dataframe tbody tr th:only-of-type {\n",
       "        vertical-align: middle;\n",
       "    }\n",
       "\n",
       "    .dataframe tbody tr th {\n",
       "        vertical-align: top;\n",
       "    }\n",
       "\n",
       "    .dataframe thead th {\n",
       "        text-align: right;\n",
       "    }\n",
       "</style>\n",
       "<table border=\"1\" class=\"dataframe\">\n",
       "  <thead>\n",
       "    <tr style=\"text-align: right;\">\n",
       "      <th></th>\n",
       "      <th>id</th>\n",
       "      <th>text</th>\n",
       "      <th>emotion</th>\n",
       "      <th>intensity</th>\n",
       "    </tr>\n",
       "  </thead>\n",
       "  <tbody>\n",
       "    <tr>\n",
       "      <th>0</th>\n",
       "      <td>10000</td>\n",
       "      <td>How the fu*k! Who the heck! moved my fridge!.....</td>\n",
       "      <td>anger</td>\n",
       "      <td>0.938</td>\n",
       "    </tr>\n",
       "    <tr>\n",
       "      <th>1</th>\n",
       "      <td>10001</td>\n",
       "      <td>So my Indian Uber driver just called someone t...</td>\n",
       "      <td>anger</td>\n",
       "      <td>0.896</td>\n",
       "    </tr>\n",
       "    <tr>\n",
       "      <th>2</th>\n",
       "      <td>10002</td>\n",
       "      <td>@DPD_UK I asked for my parcel to be delivered ...</td>\n",
       "      <td>anger</td>\n",
       "      <td>0.896</td>\n",
       "    </tr>\n",
       "    <tr>\n",
       "      <th>3</th>\n",
       "      <td>10003</td>\n",
       "      <td>so ef whichever butt wipe pulled the fire alar...</td>\n",
       "      <td>anger</td>\n",
       "      <td>0.896</td>\n",
       "    </tr>\n",
       "    <tr>\n",
       "      <th>4</th>\n",
       "      <td>10004</td>\n",
       "      <td>Don't join @BTCare they put the phone down on ...</td>\n",
       "      <td>anger</td>\n",
       "      <td>0.896</td>\n",
       "    </tr>\n",
       "  </tbody>\n",
       "</table>\n",
       "</div>"
      ],
      "text/plain": [
       "      id                                               text emotion  intensity\n",
       "0  10000  How the fu*k! Who the heck! moved my fridge!.....   anger      0.938\n",
       "1  10001  So my Indian Uber driver just called someone t...   anger      0.896\n",
       "2  10002  @DPD_UK I asked for my parcel to be delivered ...   anger      0.896\n",
       "3  10003  so ef whichever butt wipe pulled the fire alar...   anger      0.896\n",
       "4  10004  Don't join @BTCare they put the phone down on ...   anger      0.896"
      ]
     },
     "metadata": {},
     "output_type": "display_data"
    }
   ],
   "source": [
    "### testing data\n",
    "anger_test = pd.read_csv(\"data/semeval/dev/anger-ratings-0to1.dev.gold.txt\",\n",
    "                         sep=\"\\t\", header=None, names=[\"id\", \"text\", \"emotion\", \"intensity\"])\n",
    "sadness_test = pd.read_csv(\"data/semeval/dev/sadness-ratings-0to1.dev.gold.txt\",\n",
    "                         sep=\"\\t\", header=None, names=[\"id\", \"text\", \"emotion\", \"intensity\"])\n",
    "fear_test = pd.read_csv(\"data/semeval/dev/fear-ratings-0to1.dev.gold.txt\",\n",
    "                         sep=\"\\t\", header=None, names=[\"id\", \"text\", \"emotion\", \"intensity\"])\n",
    "joy_test = pd.read_csv(\"data/semeval/dev/joy-ratings-0to1.dev.gold.txt\",\n",
    "                         sep=\"\\t\", header=None, names=[\"id\", \"text\", \"emotion\", \"intensity\"])\n",
    "\n",
    "# combine 4 sub-dataset\n",
    "test_df = pd.concat([anger_test, fear_test, joy_test, sadness_test], ignore_index=True)\n",
    "train_df.head()"
   ]
  },
  {
   "cell_type": "code",
   "execution_count": null,
   "metadata": {
    "id": "HBHwcL8sYTpX"
   },
   "outputs": [],
   "source": [
    "# shuffle dataset => prevent bias\n",
    "train_df = train_df.sample(frac=1)\n",
    "test_df = test_df.sample(frac=1)"
   ]
  },
  {
   "cell_type": "code",
   "execution_count": null,
   "metadata": {
    "colab": {
     "base_uri": "https://localhost:8080/"
    },
    "id": "9w_cDUwCYTpX",
    "outputId": "3582ac44-1f5f-4cb2-b833-d477f152461a",
    "scrolled": true
   },
   "outputs": [],
   "source": [
    "print(\"Shape of Training df: \", train_df.shape)\n",
    "print(\"Shape of Testing df: \", test_df.shape)"
   ]
  },
  {
   "cell_type": "code",
   "execution_count": null,
   "metadata": {},
   "outputs": [],
   "source": [
    "# Answer here\n",
    "def exec1(DF):\n",
    "    count_vect = CountVectorizer()\n",
    "    word_counts = count_vect.fit_transform(DF.text)   # learn the vocab and retuen document term matrix\n",
    "\n",
    "    print(f'data samples counts: {DF.shape[0]}\\nhow many terms: {word_counts.shape[1]}')\n",
    "\n",
    "    term_frequencies = []\n",
    "    for j in range(0,word_counts.shape[1]):\n",
    "        term_frequencies.append(sum(word_counts[:,j].toarray())) # how many times a term is presented in these documents.\n",
    "\n",
    "    DF_asc = pd.DataFrame({'words': count_vect.get_feature_names_out()[:] ,'term freq': term_frequencies[:]}).sort_values(by='term freq', ascending=False)\n",
    "    return DF_asc\n",
    "\n",
    "train_wf = exec1(train_df)\n",
    "train_wf['term freq'] = train_wf['term freq'].apply(pd.Series).to_numpy().flatten()"
   ]
  },
  {
   "cell_type": "code",
   "execution_count": null,
   "metadata": {},
   "outputs": [
    {
     "name": "stderr",
     "output_type": "stream",
     "text": [
      "/tmp/ipykernel_27836/639505538.py:1: FutureWarning:\n",
      "\n",
      "The behavior of `series[i:j]` with an integer-dtype index is deprecated. In a future version, this will be treated as *label-based* indexing, consistent with e.g. `series[i]` lookups. To retain the old behavior, use `series.iloc[i:j]`. To get the future behavior, use `series.loc[i:j]`.\n",
      "\n"
     ]
    },
    {
     "data": {
      "image/png": "[encoded data removed]"
     },
     "metadata": {},
     "output_type": "display_data"
    }
   ],
   "source": [
    "fig = px.line(x=train_wf.words[:30], y=train_wf['term freq'][:30]);\n",
    "fig.show(\"png\");"
   ]
  },
  {
   "cell_type": "markdown",
   "metadata": {
    "id": "fj6TV4ngYTpo"
   },
   "source": [
    "---\n",
    "### **Exercise 2 (Take home):**  \n",
    "Generate an embedding using the TF-IDF vectorizer instead of th BOW one with 1000 features and show the feature names for features [100:110]."
   ]
  },
  {
   "cell_type": "code",
   "execution_count": null,
   "metadata": {
    "id": "BOjVbgmxYTpo"
   },
   "outputs": [
    {
     "data": {
      "text/plain": [
       "array(['awful', 'b', 'baby', 'back', 'bad', 'ball', 'balls', 'bb18', 'bc',\n",
       "       'bday'], dtype=object)"
      ]
     },
     "metadata": {},
     "output_type": "display_data"
    }
   ],
   "source": [
    "# Answer here\n",
    "Tfidf_vect = TfidfVectorizer(max_features=1000, tokenizer=nltk.word_tokenize)\n",
    "\n",
    "Tfidf_df = Tfidf_vect.fit_transform(train_df['text'], )\n",
    "\n",
    "feature_names = Tfidf_vect.get_feature_names_out()\n",
    "feature_names[100:110]"
   ]
  },
  {
   "cell_type": "markdown",
   "metadata": {
    "id": "l743vmwgYTpo"
   },
   "source": [
    "---\n",
    "### **Exercise 3 (Take home):**  \n",
    "Can you interpret the results above? What do they mean?"
   ]
  },
  {
   "cell_type": "markdown",
   "metadata": {},
   "source": [
    "> So the predicted label is the prediction provided by the model, while the true label represent the ground truth of the given variable. The diagonal of the matrix is **True Positive**, which the predicted label maps the ground truth; while the upper right and the lower left triangular areas of the matrix indicate error predictions, for example, for the value of 9 presenting on the left right corner of the matrix implies the model predicts 9 texts as sadness while the actual emotions of certain texts are anger."
   ]
  },
  {
   "cell_type": "markdown",
   "metadata": {
    "id": "GaHpgl87YTpo"
   },
   "source": [
    "---\n",
    "### **Exercise 4 (Take home):**  \n",
    "Build a model using a ```Naive Bayes``` model and train it. What are the testing results? \n",
    "\n",
    "*Reference*: https://scikit-learn.org/stable/modules/generated/sklearn.naive_bayes.MultinomialNB.html"
   ]
  },
  {
   "cell_type": "code",
   "execution_count": null,
   "metadata": {
    "id": "ZPvaHzpXYTpo"
   },
   "outputs": [
    {
     "name": "stdout",
     "output_type": "stream",
     "text": [
      "training accuracy: 0.76\n",
      "testing accuracy: 0.65\n"
     ]
    }
   ],
   "source": [
    "# Answer here\n",
    "from sklearn.naive_bayes import GaussianNB\n",
    "\n",
    "GNB_model = GaussianNB()\n",
    "\n",
    "## training!\n",
    "GNB_model.fit(X_train.toarray(), y_train)\n",
    "\n",
    "## predict!\n",
    "y_train_pred = GNB_model.predict(X_train.toarray())\n",
    "y_test_pred = GNB_model.predict(X_test.toarray())\n",
    "\n",
    "## so we get the pred result\n",
    "y_test_pred[:10]\n",
    "\n",
    "acc_train = accuracy_score(y_true=y_train, y_pred=y_train_pred)\n",
    "acc_test = accuracy_score(y_true=y_test, y_pred=y_test_pred)\n",
    "\n",
    "print('training accuracy: {}'.format(round(acc_train, 2)))\n",
    "print('testing accuracy: {}'.format(round(acc_test, 2)))"
   ]
  },
  {
   "cell_type": "markdown",
   "metadata": {
    "id": "Xv2DqWQSYTpo"
   },
   "source": [
    "---\n",
    "### **Exercise 5 (Take home):**  \n",
    "\n",
    "How do the results from the Naive Bayes model and the Decision Tree model compare? How do you interpret these differences? Use the theoretical background covered in class to try and explain these differences."
   ]
  },
  {
   "cell_type": "markdown",
   "metadata": {},
   "source": [
    "**Answer here**\n",
    "\n",
    "\n",
    "> While one can simply pass a sparse matrix into decision tree model, Caussian model requires user to decompose the matrix. As we can compare the accuracy score from tha above implementation that decision tree classifier is obviously doing a better job than Gaussian model.\n",
    "\n",
    "> Naive Bayes classifier is statistical model based on Bayes' thm which is generally used to calculate the probability of certain event (A) conditioned under the other events, say B, and it assumes that we have some prior knowledge of the distribution of B. While it stems from the assumption that all features passed into the model are mutually exclusive, which indicates that every variable should be orthogonal to each other. Its shortcoming is that they tend to drop irrelevant features, so when we tried to predict class C, if an uncommon feature is included, Gaussian model would not performed well.\n",
    "\n",
    "> On the other hand, decision tree checked each individual feature and follow the branch that corresponds to its value during inference. A major disadvantage of the model may be its tree height. If the model were fed a large dataset, spliting every feature node would cost a lot of computational resources.\n",
    "\n",
    "> After digging into the related algorithm, I think the reason why Gaussian performs worse compared to discission tree model is that the correlation between variables are not fully eliminated. As we can observe from the above covariance matrix, there are certain terms appear to correlate with other terms, which indicates the mutual exclusive assumption from Gaussian model is violated. I think that might be the reason why the decision tree model has a better prediction accuracy."
   ]
  },
  {
   "cell_type": "markdown",
   "metadata": {
    "id": "NoYqY0-tYTp5"
   },
   "source": [
    "---\n",
    "### **Exercise 6 (Take home):**  \n",
    "\n",
    "Plot the Training and Validation Accuracy and Loss (different plots), just like the images below.(Note: the pictures below are an example from a different model). How to interpret the graphs you got? How are they related to the concept of overfitting/underfitting covered in class?\n",
    "<table><tr>\n",
    "    <td><img src=\"pics/pic3.png\" style=\"width: 300px;\"/> </td>\n",
    "    <td><img src=\"pics/pic4.png\" style=\"width: 300px;\"/> </td>\n",
    "</tr></table>"
   ]
  },
  {
   "cell_type": "code",
   "execution_count": null,
   "metadata": {
    "id": "AlhstCrlYTp5"
   },
   "outputs": [
    {
     "data": {
      "image/png": "[encoded data removed]",
      "text/plain": [
       "<Figure size 500x300 with 1 Axes>"
      ]
     },
     "metadata": {},
     "output_type": "display_data"
    },
    {
     "data": {
      "image/png": "[encoded data removed]",
      "text/plain": [
       "<Figure size 500x300 with 1 Axes>"
      ]
     },
     "metadata": {},
     "output_type": "display_data"
    }
   ],
   "source": [
    "# Answer here\n",
    "fig, ax = plt.subplots(figsize=(5,3))\n",
    "plt.plot(pd.DataFrame({'Training accuracy':training_log.accuracy, 'Val accuracy':training_log.val_accuracy}))\n",
    "\n",
    "#arrange\n",
    "plt.ylabel('True positive percentage')\n",
    "plt.xlabel('Epoch')\n",
    "plt.title('Training and Validation accuracy')\n",
    "plt.show()\n",
    "\n",
    "########################\n",
    "\n",
    "fig, ax = plt.subplots(figsize=(5,3))\n",
    "plt.plot(pd.DataFrame({'Training loss':training_log.loss, 'Val loss':training_log.val_loss}))\n",
    "\n",
    "#arrange\n",
    "plt.ylabel('Loss')\n",
    "plt.xlabel('Epoch')\n",
    "plt.title('Training and Validation Loss')\n",
    "plt.show()"
   ]
  },
  {
   "cell_type": "markdown",
   "metadata": {
    "id": "y3RQVnBOYTp5"
   },
   "source": [
    "---\n",
    "### **Exercise 7 (Take home):**  \n",
    "\n",
    "Now, we have the word vectors, but our input data is a sequence of words (or say sentence). \n",
    "How can we utilize these \"word\" vectors to represent the sentence data and train our model?\n"
   ]
  },
  {
   "cell_type": "code",
   "execution_count": null,
   "metadata": {
    "id": "TBwRT93DYTp5"
   },
   "outputs": [],
   "source": [
    "# Answer here\n",
    "# how can we use the word factors to train our model?\n",
    "word2vec_model = Word2Vec.load('word2vec.model')\n",
    "\n",
    "word_vect = word2vec_model.wv\n",
    "word2vec_X = train_df.text_tokenized.apply(lambda x: word2vec_model.wv[x])\n",
    "word2vec_X = word2vec_X.apply(lambda x: np.mean(x.transpose(), axis=1)).apply(pd.Series)\n",
    "\n",
    "word2vec_X_test = test_df.text_tokenized.apply(lambda x: word2vec_model.wv[x])\n",
    "word2vec_X_test = word2vec_X_test.apply(lambda x: np.mean(x.transpose(), axis=1)).apply(pd.Series)"
   ]
  },
  {
   "cell_type": "code",
   "execution_count": null,
   "metadata": {},
   "outputs": [
    {
     "name": "stdout",
     "output_type": "stream",
     "text": [
      "Model: \"model_1\"\n",
      "_________________________________________________________________\n",
      " Layer (type)                Output Shape              Param #   \n",
      "=================================================================\n",
      " input_2 (InputLayer)        [(None, 100)]             0         \n",
      "                                                                 \n",
      " dense_3 (Dense)             (None, 64)                6464      \n",
      "                                                                 \n",
      " re_lu_2 (ReLU)              (None, 64)                0         \n",
      "                                                                 \n",
      " dense_4 (Dense)             (None, 64)                4160      \n",
      "                                                                 \n",
      " re_lu_3 (ReLU)              (None, 64)                0         \n",
      "                                                                 \n",
      " dense_5 (Dense)             (None, 4)                 260       \n",
      "                                                                 \n",
      " softmax_1 (Softmax)         (None, 4)                 0         \n",
      "                                                                 \n",
      "=================================================================\n",
      "Total params: 10,884\n",
      "Trainable params: 10,884\n",
      "Non-trainable params: 0\n",
      "_________________________________________________________________\n",
      "Epoch 1/25\n",
      "113/113 [==============================] - 3s 11ms/step - loss: 1.3622 - accuracy: 0.3141 - val_loss: 1.3607 - val_accuracy: 0.3602\n",
      "Epoch 2/25\n",
      "113/113 [==============================] - 1s 8ms/step - loss: 1.3396 - accuracy: 0.3415 - val_loss: 1.3621 - val_accuracy: 0.3343\n",
      "Epoch 3/25\n",
      "113/113 [==============================] - 1s 7ms/step - loss: 1.3340 - accuracy: 0.3413 - val_loss: 1.3637 - val_accuracy: 0.3285\n",
      "Epoch 4/25\n",
      "113/113 [==============================] - 1s 10ms/step - loss: 1.3288 - accuracy: 0.3493 - val_loss: 1.3709 - val_accuracy: 0.3285\n",
      "Epoch 5/25\n",
      "113/113 [==============================] - 1s 7ms/step - loss: 1.3283 - accuracy: 0.3457 - val_loss: 1.3663 - val_accuracy: 0.3256\n",
      "Epoch 6/25\n",
      "113/113 [==============================] - 1s 6ms/step - loss: 1.3219 - accuracy: 0.3573 - val_loss: 1.3734 - val_accuracy: 0.3401\n",
      "Epoch 7/25\n",
      "113/113 [==============================] - 1s 7ms/step - loss: 1.3214 - accuracy: 0.3637 - val_loss: 1.3667 - val_accuracy: 0.3631\n",
      "Epoch 8/25\n",
      "113/113 [==============================] - 1s 8ms/step - loss: 1.3196 - accuracy: 0.3507 - val_loss: 1.3670 - val_accuracy: 0.3372\n",
      "Epoch 9/25\n",
      "113/113 [==============================] - 1s 8ms/step - loss: 1.3154 - accuracy: 0.3620 - val_loss: 1.3706 - val_accuracy: 0.3487\n",
      "Epoch 10/25\n",
      "113/113 [==============================] - 1s 8ms/step - loss: 1.3132 - accuracy: 0.3615 - val_loss: 1.3715 - val_accuracy: 0.3372\n",
      "Epoch 11/25\n",
      "113/113 [==============================] - 1s 6ms/step - loss: 1.3136 - accuracy: 0.3634 - val_loss: 1.3676 - val_accuracy: 0.3429\n",
      "Epoch 12/25\n",
      "113/113 [==============================] - 1s 8ms/step - loss: 1.3105 - accuracy: 0.3667 - val_loss: 1.3666 - val_accuracy: 0.3429\n",
      "Epoch 13/25\n",
      "113/113 [==============================] - 1s 8ms/step - loss: 1.3110 - accuracy: 0.3665 - val_loss: 1.3807 - val_accuracy: 0.3285\n",
      "Epoch 14/25\n",
      "113/113 [==============================] - 1s 5ms/step - loss: 1.3059 - accuracy: 0.3714 - val_loss: 1.3791 - val_accuracy: 0.3314\n",
      "Epoch 15/25\n",
      "113/113 [==============================] - 1s 8ms/step - loss: 1.3053 - accuracy: 0.3673 - val_loss: 1.3664 - val_accuracy: 0.3314\n",
      "Epoch 16/25\n",
      "113/113 [==============================] - 1s 8ms/step - loss: 1.3007 - accuracy: 0.3629 - val_loss: 1.3786 - val_accuracy: 0.3285\n",
      "Epoch 17/25\n",
      "113/113 [==============================] - 1s 6ms/step - loss: 1.3027 - accuracy: 0.3720 - val_loss: 1.3667 - val_accuracy: 0.3516\n",
      "Epoch 18/25\n",
      "113/113 [==============================] - 1s 8ms/step - loss: 1.2969 - accuracy: 0.3786 - val_loss: 1.3835 - val_accuracy: 0.3314\n",
      "Epoch 19/25\n",
      "113/113 [==============================] - 1s 7ms/step - loss: 1.2949 - accuracy: 0.3750 - val_loss: 1.3760 - val_accuracy: 0.3228\n",
      "Epoch 20/25\n",
      "113/113 [==============================] - 1s 8ms/step - loss: 1.2962 - accuracy: 0.3820 - val_loss: 1.3797 - val_accuracy: 0.3314\n",
      "Epoch 21/25\n",
      "113/113 [==============================] - 1s 7ms/step - loss: 1.2919 - accuracy: 0.3770 - val_loss: 1.3909 - val_accuracy: 0.3112\n",
      "Epoch 22/25\n",
      "113/113 [==============================] - 1s 7ms/step - loss: 1.2890 - accuracy: 0.3853 - val_loss: 1.3717 - val_accuracy: 0.3573\n",
      "Epoch 23/25\n",
      "113/113 [==============================] - 1s 11ms/step - loss: 1.2885 - accuracy: 0.3825 - val_loss: 1.3901 - val_accuracy: 0.3314\n",
      "Epoch 24/25\n",
      "113/113 [==============================] - 1s 6ms/step - loss: 1.2859 - accuracy: 0.3930 - val_loss: 1.3811 - val_accuracy: 0.3458\n",
      "Epoch 25/25\n",
      "113/113 [==============================] - 1s 7ms/step - loss: 1.2834 - accuracy: 0.3867 - val_loss: 1.3822 - val_accuracy: 0.3314\n",
      "training finish\n"
     ]
    }
   ],
   "source": [
    "# model\n",
    "\n",
    "# input layer\n",
    "model_input = Input(shape=(word2vec_X.shape[1], ))  # 100\n",
    "X = model_input\n",
    "\n",
    "# 1st hidden layer\n",
    "X_W1 = Dense(units=64)(X)  # 64\n",
    "H1 = ReLU()(X_W1)\n",
    "\n",
    "# 2nd hidden layer\n",
    "H1_W2 = Dense(units=64)(H1)  # 64\n",
    "H2 = ReLU()(H1_W2)\n",
    "\n",
    "# output layer\n",
    "H2_W3 = Dense(units=output_shape)(H2)  # 4\n",
    "H3 = Softmax()(H2_W3)\n",
    "\n",
    "model_output = H3\n",
    "\n",
    "# create model\n",
    "model = Model(inputs=[model_input], outputs=[model_output])\n",
    "\n",
    "# loss function & optimizer\n",
    "model.compile(optimizer='adam',\n",
    "              loss='categorical_crossentropy',\n",
    "              metrics=['accuracy'])\n",
    "\n",
    "# show model construction\n",
    "model.summary()\n",
    "\n",
    "csv_logger = CSVLogger('logs/training_word2vec_log.csv')\n",
    "\n",
    "# training setting\n",
    "epochs = 25 # total num of iterations\n",
    "batch_size = 32 # pass 32 samples to the network at a time\n",
    "\n",
    "# training!\n",
    "history = model.fit(word2vec_X, y_train, \n",
    "                    epochs=epochs, \n",
    "                    batch_size=batch_size, \n",
    "                    callbacks=[csv_logger],\n",
    "                    validation_data = (word2vec_X_test, y_test))\n",
    "print('training finish')"
   ]
  },
  {
   "cell_type": "code",
   "execution_count": null,
   "metadata": {
    "colab": {
     "base_uri": "https://localhost:8080/"
    },
    "id": "xdnLuBYBYTpo",
    "outputId": "6e7e97b7-fe5c-44f6-9baa-a71335aa7b06"
   },
   "outputs": [
    {
     "name": "stdout",
     "output_type": "stream",
     "text": [
      "3/3 [==============================] - 1s 5ms/step\n"
     ]
    },
    {
     "data": {
      "text/plain": [
       "array([[0.3146005 , 0.2707976 , 0.15718941, 0.25741258],\n",
       "       [0.20253068, 0.36458677, 0.2200047 , 0.21287784],\n",
       "       [0.38603237, 0.39846736, 0.08136784, 0.13413246],\n",
       "       [0.3488763 , 0.25339824, 0.16202915, 0.23569626],\n",
       "       [0.18183416, 0.33521536, 0.15968224, 0.32326826]], dtype=float32)"
      ]
     },
     "metadata": {},
     "output_type": "display_data"
    }
   ],
   "source": [
    "## predict\n",
    "pred_result = model.predict(word2vec_X_test, batch_size=128)\n",
    "pred_result[:5]"
   ]
  },
  {
   "cell_type": "code",
   "execution_count": null,
   "metadata": {
    "colab": {
     "base_uri": "https://localhost:8080/"
    },
    "id": "hSaXGEX-YTpo",
    "outputId": "d35b5fb3-74e5-44d9-ac1d-8a11cca023e4"
   },
   "outputs": [
    {
     "data": {
      "text/plain": [
       "array(['anger', 'fear', 'fear', 'anger', 'fear'], dtype=object)"
      ]
     },
     "metadata": {},
     "output_type": "display_data"
    }
   ],
   "source": [
    "# transform the numerical values into characters\n",
    "pred_result = label_decode(label_encoder, pred_result)\n",
    "pred_result[:5]"
   ]
  },
  {
   "cell_type": "code",
   "execution_count": null,
   "metadata": {
    "colab": {
     "base_uri": "https://localhost:8080/"
    },
    "id": "bRRHye9KYTp5",
    "outputId": "d4f240ef-5f59-4d90-e3a2-57b98ced3928"
   },
   "outputs": [
    {
     "name": "stdout",
     "output_type": "stream",
     "text": [
      "testing accuracy: 0.33\n"
     ]
    }
   ],
   "source": [
    "from sklearn.metrics import accuracy_score\n",
    "\n",
    "print('testing accuracy: {}'.format(round(accuracy_score(label_decode(label_encoder, y_test), pred_result), 2)))"
   ]
  },
  {
   "cell_type": "code",
   "execution_count": null,
   "metadata": {
    "colab": {
     "base_uri": "https://localhost:8080/",
     "height": 834
    },
    "id": "ks2Q0aMsYTp5",
    "outputId": "8b802a69-6377-4f0a-c1fa-2f03e5abebd4"
   },
   "outputs": [
    {
     "data": {
      "text/html": [
       "<div>\n",
       "<style scoped>\n",
       "    .dataframe tbody tr th:only-of-type {\n",
       "        vertical-align: middle;\n",
       "    }\n",
       "\n",
       "    .dataframe tbody tr th {\n",
       "        vertical-align: top;\n",
       "    }\n",
       "\n",
       "    .dataframe thead th {\n",
       "        text-align: right;\n",
       "    }\n",
       "</style>\n",
       "<table border=\"1\" class=\"dataframe\">\n",
       "  <thead>\n",
       "    <tr style=\"text-align: right;\">\n",
       "      <th></th>\n",
       "      <th>epoch</th>\n",
       "      <th>accuracy</th>\n",
       "      <th>loss</th>\n",
       "      <th>val_accuracy</th>\n",
       "      <th>val_loss</th>\n",
       "    </tr>\n",
       "  </thead>\n",
       "  <tbody>\n",
       "    <tr>\n",
       "      <th>0</th>\n",
       "      <td>0</td>\n",
       "      <td>0.314143</td>\n",
       "      <td>1.362201</td>\n",
       "      <td>0.360231</td>\n",
       "      <td>1.360650</td>\n",
       "    </tr>\n",
       "    <tr>\n",
       "      <th>1</th>\n",
       "      <td>1</td>\n",
       "      <td>0.341544</td>\n",
       "      <td>1.339580</td>\n",
       "      <td>0.334294</td>\n",
       "      <td>1.362095</td>\n",
       "    </tr>\n",
       "    <tr>\n",
       "      <th>2</th>\n",
       "      <td>2</td>\n",
       "      <td>0.341268</td>\n",
       "      <td>1.333990</td>\n",
       "      <td>0.328530</td>\n",
       "      <td>1.363669</td>\n",
       "    </tr>\n",
       "    <tr>\n",
       "      <th>3</th>\n",
       "      <td>3</td>\n",
       "      <td>0.349294</td>\n",
       "      <td>1.328833</td>\n",
       "      <td>0.328530</td>\n",
       "      <td>1.370853</td>\n",
       "    </tr>\n",
       "    <tr>\n",
       "      <th>4</th>\n",
       "      <td>4</td>\n",
       "      <td>0.345696</td>\n",
       "      <td>1.328329</td>\n",
       "      <td>0.325648</td>\n",
       "      <td>1.366341</td>\n",
       "    </tr>\n",
       "    <tr>\n",
       "      <th>5</th>\n",
       "      <td>5</td>\n",
       "      <td>0.357321</td>\n",
       "      <td>1.321936</td>\n",
       "      <td>0.340058</td>\n",
       "      <td>1.373433</td>\n",
       "    </tr>\n",
       "    <tr>\n",
       "      <th>6</th>\n",
       "      <td>6</td>\n",
       "      <td>0.363687</td>\n",
       "      <td>1.321431</td>\n",
       "      <td>0.363112</td>\n",
       "      <td>1.366673</td>\n",
       "    </tr>\n",
       "    <tr>\n",
       "      <th>7</th>\n",
       "      <td>7</td>\n",
       "      <td>0.350678</td>\n",
       "      <td>1.319567</td>\n",
       "      <td>0.337176</td>\n",
       "      <td>1.367015</td>\n",
       "    </tr>\n",
       "    <tr>\n",
       "      <th>8</th>\n",
       "      <td>8</td>\n",
       "      <td>0.362026</td>\n",
       "      <td>1.315391</td>\n",
       "      <td>0.348703</td>\n",
       "      <td>1.370554</td>\n",
       "    </tr>\n",
       "    <tr>\n",
       "      <th>9</th>\n",
       "      <td>9</td>\n",
       "      <td>0.361472</td>\n",
       "      <td>1.313196</td>\n",
       "      <td>0.337176</td>\n",
       "      <td>1.371507</td>\n",
       "    </tr>\n",
       "    <tr>\n",
       "      <th>10</th>\n",
       "      <td>10</td>\n",
       "      <td>0.363410</td>\n",
       "      <td>1.313635</td>\n",
       "      <td>0.342939</td>\n",
       "      <td>1.367583</td>\n",
       "    </tr>\n",
       "    <tr>\n",
       "      <th>11</th>\n",
       "      <td>11</td>\n",
       "      <td>0.366731</td>\n",
       "      <td>1.310482</td>\n",
       "      <td>0.342939</td>\n",
       "      <td>1.366599</td>\n",
       "    </tr>\n",
       "    <tr>\n",
       "      <th>12</th>\n",
       "      <td>12</td>\n",
       "      <td>0.366454</td>\n",
       "      <td>1.311040</td>\n",
       "      <td>0.328530</td>\n",
       "      <td>1.380654</td>\n",
       "    </tr>\n",
       "    <tr>\n",
       "      <th>13</th>\n",
       "      <td>13</td>\n",
       "      <td>0.371436</td>\n",
       "      <td>1.305948</td>\n",
       "      <td>0.331412</td>\n",
       "      <td>1.379149</td>\n",
       "    </tr>\n",
       "    <tr>\n",
       "      <th>14</th>\n",
       "      <td>14</td>\n",
       "      <td>0.367285</td>\n",
       "      <td>1.305324</td>\n",
       "      <td>0.331412</td>\n",
       "      <td>1.366387</td>\n",
       "    </tr>\n",
       "    <tr>\n",
       "      <th>15</th>\n",
       "      <td>15</td>\n",
       "      <td>0.362856</td>\n",
       "      <td>1.300685</td>\n",
       "      <td>0.328530</td>\n",
       "      <td>1.378591</td>\n",
       "    </tr>\n",
       "    <tr>\n",
       "      <th>16</th>\n",
       "      <td>16</td>\n",
       "      <td>0.371990</td>\n",
       "      <td>1.302720</td>\n",
       "      <td>0.351585</td>\n",
       "      <td>1.366708</td>\n",
       "    </tr>\n",
       "    <tr>\n",
       "      <th>17</th>\n",
       "      <td>17</td>\n",
       "      <td>0.378633</td>\n",
       "      <td>1.296892</td>\n",
       "      <td>0.331412</td>\n",
       "      <td>1.383511</td>\n",
       "    </tr>\n",
       "    <tr>\n",
       "      <th>18</th>\n",
       "      <td>18</td>\n",
       "      <td>0.375035</td>\n",
       "      <td>1.294946</td>\n",
       "      <td>0.322767</td>\n",
       "      <td>1.376046</td>\n",
       "    </tr>\n",
       "    <tr>\n",
       "      <th>19</th>\n",
       "      <td>19</td>\n",
       "      <td>0.381954</td>\n",
       "      <td>1.296244</td>\n",
       "      <td>0.331412</td>\n",
       "      <td>1.379737</td>\n",
       "    </tr>\n",
       "    <tr>\n",
       "      <th>20</th>\n",
       "      <td>20</td>\n",
       "      <td>0.376972</td>\n",
       "      <td>1.291855</td>\n",
       "      <td>0.311239</td>\n",
       "      <td>1.390885</td>\n",
       "    </tr>\n",
       "    <tr>\n",
       "      <th>21</th>\n",
       "      <td>21</td>\n",
       "      <td>0.385275</td>\n",
       "      <td>1.288984</td>\n",
       "      <td>0.357349</td>\n",
       "      <td>1.371672</td>\n",
       "    </tr>\n",
       "    <tr>\n",
       "      <th>22</th>\n",
       "      <td>22</td>\n",
       "      <td>0.382508</td>\n",
       "      <td>1.288532</td>\n",
       "      <td>0.331412</td>\n",
       "      <td>1.390080</td>\n",
       "    </tr>\n",
       "    <tr>\n",
       "      <th>23</th>\n",
       "      <td>23</td>\n",
       "      <td>0.393025</td>\n",
       "      <td>1.285883</td>\n",
       "      <td>0.345821</td>\n",
       "      <td>1.381141</td>\n",
       "    </tr>\n",
       "    <tr>\n",
       "      <th>24</th>\n",
       "      <td>24</td>\n",
       "      <td>0.386659</td>\n",
       "      <td>1.283370</td>\n",
       "      <td>0.331412</td>\n",
       "      <td>1.382213</td>\n",
       "    </tr>\n",
       "  </tbody>\n",
       "</table>\n",
       "</div>"
      ],
      "text/plain": [
       "    epoch  accuracy      loss  val_accuracy  val_loss\n",
       "0       0  0.314143  1.362201      0.360231  1.360650\n",
       "1       1  0.341544  1.339580      0.334294  1.362095\n",
       "2       2  0.341268  1.333990      0.328530  1.363669\n",
       "3       3  0.349294  1.328833      0.328530  1.370853\n",
       "4       4  0.345696  1.328329      0.325648  1.366341\n",
       "5       5  0.357321  1.321936      0.340058  1.373433\n",
       "6       6  0.363687  1.321431      0.363112  1.366673\n",
       "7       7  0.350678  1.319567      0.337176  1.367015\n",
       "8       8  0.362026  1.315391      0.348703  1.370554\n",
       "9       9  0.361472  1.313196      0.337176  1.371507\n",
       "10     10  0.363410  1.313635      0.342939  1.367583\n",
       "11     11  0.366731  1.310482      0.342939  1.366599\n",
       "12     12  0.366454  1.311040      0.328530  1.380654\n",
       "13     13  0.371436  1.305948      0.331412  1.379149\n",
       "14     14  0.367285  1.305324      0.331412  1.366387\n",
       "15     15  0.362856  1.300685      0.328530  1.378591\n",
       "16     16  0.371990  1.302720      0.351585  1.366708\n",
       "17     17  0.378633  1.296892      0.331412  1.383511\n",
       "18     18  0.375035  1.294946      0.322767  1.376046\n",
       "19     19  0.381954  1.296244      0.331412  1.379737\n",
       "20     20  0.376972  1.291855      0.311239  1.390885\n",
       "21     21  0.385275  1.288984      0.357349  1.371672\n",
       "22     22  0.382508  1.288532      0.331412  1.390080\n",
       "23     23  0.393025  1.285883      0.345821  1.381141\n",
       "24     24  0.386659  1.283370      0.331412  1.382213"
      ]
     },
     "metadata": {},
     "output_type": "display_data"
    }
   ],
   "source": [
    "#Let's take a look at the training log\n",
    "training_log = pd.DataFrame()\n",
    "training_log = pd.read_csv(\"logs/training_word2vec_log.csv\")\n",
    "training_log"
   ]
  },
  {
   "cell_type": "markdown",
   "metadata": {},
   "source": [
    "## **Kaggle Competition - Emotion Recognition on Twitter**"
   ]
  },
  {
   "cell_type": "markdown",
   "metadata": {},
   "source": [
    "### **Data Preprocessing**"
   ]
  },
  {
   "cell_type": "markdown",
   "metadata": {},
   "source": [
    "- Cleaned data read from tweets json file and identify some potential data that might had an effect on model's performance."
   ]
  },
  {
   "cell_type": "code",
   "execution_count": null,
   "metadata": {},
   "outputs": [],
   "source": [
    "id = pd.read_csv('C:\\\\Users\\\\megan\\\\Desktop\\\\DSPMT\\\\DS\\\\Data Mining\\\\Lab2\\\\dataset\\\\data_identification.csv')\n",
    "emo = pd.read_csv('C:\\\\Users\\\\megan\\\\Desktop\\\\DSPMT\\DS\\\\Data Mining\\Lab2\\dataset\\\\emotion.csv')\n",
    "tweets = pd.read_json('C:\\\\Users\\\\megan\\\\Desktop\\\\DSPMT\\\\DS\\\\Data Mining\\\\Lab2\\\\dataset\\\\tweets_DM.json', lines=True)\n",
    "\n",
    "train_id = id[id.identification=='train']\n",
    "train_emo = emo[emo.tweet_id.isin(train_id.tweet_id)]\n",
    "tweets['_index'] = [tweets._source[i]['tweet']['tweet_id'] for i in range(0, tweets.shape[0])]\n",
    "tweets['hashtags'] = [tweets._source[i]['tweet']['hashtags'] for i in range(0, tweets.shape[0])]\n",
    "tweets['text'] = [tweets._source[i]['tweet']['text'] for i in range(0, tweets.shape[0])]\n",
    "\n",
    "# Distinguishing time variable \n",
    "tweets['year'] = tweets._crawldate.apply(lambda x: x.split()[0].split('-')[0])\n",
    "tweets['month'] = tweets._crawldate.apply(lambda x: x.split()[0].split('-')[1])\n",
    "tweets['day'] = tweets._crawldate.apply(lambda x: x.split()[0].split('-')[2])\n",
    "tweets['hour'] = tweets._crawldate.apply(lambda x: x.split()[1].split(':')[0])\n"
   ]
  },
  {
   "cell_type": "code",
   "execution_count": 9,
   "metadata": {},
   "outputs": [],
   "source": [
    "tweets._crawldate = pd.to_datetime(tweets.iloc[:, 7:])\n",
    "tweets._crawldate -= min(tweets._crawldate)\n",
    "\n",
    "tweets.drop(['_source', '_type', 'year', 'month', 'day', 'hour'], axis=1, inplace=True)"
   ]
  },
  {
   "cell_type": "code",
   "execution_count": 11,
   "metadata": {},
   "outputs": [],
   "source": [
    "tweets.to_pickle('tweets_clean.pkl') # for faster access"
   ]
  },
  {
   "cell_type": "code",
   "execution_count": 12,
   "metadata": {},
   "outputs": [],
   "source": [
    "tweets = pd.read_pickle('tweets_clean.pkl')\n",
    "emo = pd.read_csv('C:\\\\Users\\\\megan\\\\Desktop\\\\DSPMT\\DS\\\\Data Mining\\Lab2\\dataset\\\\emotion.csv')\n",
    "id = pd.read_csv('C:\\\\Users\\\\megan\\\\Desktop\\\\DSPMT\\\\DS\\\\Data Mining\\\\Lab2\\\\dataset\\\\data_identification.csv')"
   ]
  },
  {
   "cell_type": "code",
   "execution_count": 25,
   "metadata": {},
   "outputs": [],
   "source": [
    "train_id = id[id.identification=='train']   # train dataset generated from id specify in id text file\n",
    "train_emo = emo[emo.tweet_id.isin(train_id.tweet_id)]\n",
    "\n",
    "test_id = id[id.identification=='test']\n",
    "test_df = tweets[tweets['_index'].isin(test_id.tweet_id)]\n"
   ]
  },
  {
   "cell_type": "code",
   "execution_count": 13,
   "metadata": {},
   "outputs": [],
   "source": [
    "train_emo.columns = ['_index', 'emo']\n",
    "train_df = pd.merge(tweets, train_emo, how='inner', on='_index')\n",
    "\n",
    "test_df = train_df.emo"
   ]
  },
  {
   "cell_type": "code",
   "execution_count": 28,
   "metadata": {},
   "outputs": [
    {
     "data": {
      "text/html": [
       "<div>\n",
       "<style scoped>\n",
       "    .dataframe tbody tr th:only-of-type {\n",
       "        vertical-align: middle;\n",
       "    }\n",
       "\n",
       "    .dataframe tbody tr th {\n",
       "        vertical-align: top;\n",
       "    }\n",
       "\n",
       "    .dataframe thead th {\n",
       "        text-align: right;\n",
       "    }\n",
       "</style>\n",
       "<table border=\"1\" class=\"dataframe\">\n",
       "  <thead>\n",
       "    <tr style=\"text-align: right;\">\n",
       "      <th></th>\n",
       "      <th>_score</th>\n",
       "      <th>_index</th>\n",
       "      <th>_crawldate</th>\n",
       "      <th>hashtags</th>\n",
       "      <th>text</th>\n",
       "      <th>hour</th>\n",
       "      <th>emo</th>\n",
       "    </tr>\n",
       "  </thead>\n",
       "  <tbody>\n",
       "    <tr>\n",
       "      <th>0</th>\n",
       "      <td>391</td>\n",
       "      <td>0x376b20</td>\n",
       "      <td>142 days 10:00:00</td>\n",
       "      <td>[Snapchat]</td>\n",
       "      <td>People who post \"add me on #Snapchat\" must be ...</td>\n",
       "      <td>11</td>\n",
       "      <td>anticipation</td>\n",
       "    </tr>\n",
       "    <tr>\n",
       "      <th>1</th>\n",
       "      <td>433</td>\n",
       "      <td>0x2d5350</td>\n",
       "      <td>392 days 03:00:00</td>\n",
       "      <td>[freepress, TrumpLegacy, CNN]</td>\n",
       "      <td>@brianklaas As we see, Trump is dangerous to #...</td>\n",
       "      <td>04</td>\n",
       "      <td>sadness</td>\n",
       "    </tr>\n",
       "    <tr>\n",
       "      <th>2</th>\n",
       "      <td>376</td>\n",
       "      <td>0x1cd5b0</td>\n",
       "      <td>388 days 22:00:00</td>\n",
       "      <td>[]</td>\n",
       "      <td>Now ISSA is stalking Tasha 😂😂😂 &lt;LH&gt;</td>\n",
       "      <td>23</td>\n",
       "      <td>fear</td>\n",
       "    </tr>\n",
       "    <tr>\n",
       "      <th>3</th>\n",
       "      <td>120</td>\n",
       "      <td>0x1d755c</td>\n",
       "      <td>161 days 03:00:00</td>\n",
       "      <td>[authentic, LaughOutLoud]</td>\n",
       "      <td>@RISKshow @TheKevinAllison Thx for the BEST TI...</td>\n",
       "      <td>04</td>\n",
       "      <td>joy</td>\n",
       "    </tr>\n",
       "    <tr>\n",
       "      <th>4</th>\n",
       "      <td>1021</td>\n",
       "      <td>0x2c91a8</td>\n",
       "      <td>229 days 01:00:00</td>\n",
       "      <td>[]</td>\n",
       "      <td>Still waiting on those supplies Liscus. &lt;LH&gt;</td>\n",
       "      <td>02</td>\n",
       "      <td>anticipation</td>\n",
       "    </tr>\n",
       "    <tr>\n",
       "      <th>...</th>\n",
       "      <td>...</td>\n",
       "      <td>...</td>\n",
       "      <td>...</td>\n",
       "      <td>...</td>\n",
       "      <td>...</td>\n",
       "      <td>...</td>\n",
       "      <td>...</td>\n",
       "    </tr>\n",
       "    <tr>\n",
       "      <th>1455558</th>\n",
       "      <td>94</td>\n",
       "      <td>0x321566</td>\n",
       "      <td>725 days 01:00:00</td>\n",
       "      <td>[NoWonder, Happy]</td>\n",
       "      <td>I'm SO HAPPY!!! #NoWonder the name of this sho...</td>\n",
       "      <td>02</td>\n",
       "      <td>joy</td>\n",
       "    </tr>\n",
       "    <tr>\n",
       "      <th>1455559</th>\n",
       "      <td>627</td>\n",
       "      <td>0x38959e</td>\n",
       "      <td>90 days 07:00:00</td>\n",
       "      <td>[]</td>\n",
       "      <td>In every circumtance I'd like to be thankful t...</td>\n",
       "      <td>08</td>\n",
       "      <td>joy</td>\n",
       "    </tr>\n",
       "    <tr>\n",
       "      <th>1455560</th>\n",
       "      <td>274</td>\n",
       "      <td>0x2cbca6</td>\n",
       "      <td>686 days 22:00:00</td>\n",
       "      <td>[blessyou]</td>\n",
       "      <td>there's currently two girls walking around the...</td>\n",
       "      <td>23</td>\n",
       "      <td>joy</td>\n",
       "    </tr>\n",
       "    <tr>\n",
       "      <th>1455561</th>\n",
       "      <td>840</td>\n",
       "      <td>0x24faed</td>\n",
       "      <td>610 days 13:00:00</td>\n",
       "      <td>[]</td>\n",
       "      <td>Ah, corporate life, where you can date &lt;LH&gt; us...</td>\n",
       "      <td>14</td>\n",
       "      <td>joy</td>\n",
       "    </tr>\n",
       "    <tr>\n",
       "      <th>1455562</th>\n",
       "      <td>360</td>\n",
       "      <td>0x34be8c</td>\n",
       "      <td>685 days 00:00:00</td>\n",
       "      <td>[Sundayvibes]</td>\n",
       "      <td>Blessed to be living #Sundayvibes &lt;LH&gt;</td>\n",
       "      <td>01</td>\n",
       "      <td>joy</td>\n",
       "    </tr>\n",
       "  </tbody>\n",
       "</table>\n",
       "<p>1455563 rows × 7 columns</p>\n",
       "</div>"
      ],
      "text/plain": [
       "         _score    _index        _crawldate                       hashtags  \\\n",
       "0           391  0x376b20 142 days 10:00:00                     [Snapchat]   \n",
       "1           433  0x2d5350 392 days 03:00:00  [freepress, TrumpLegacy, CNN]   \n",
       "2           376  0x1cd5b0 388 days 22:00:00                             []   \n",
       "3           120  0x1d755c 161 days 03:00:00      [authentic, LaughOutLoud]   \n",
       "4          1021  0x2c91a8 229 days 01:00:00                             []   \n",
       "...         ...       ...               ...                            ...   \n",
       "1455558      94  0x321566 725 days 01:00:00              [NoWonder, Happy]   \n",
       "1455559     627  0x38959e  90 days 07:00:00                             []   \n",
       "1455560     274  0x2cbca6 686 days 22:00:00                     [blessyou]   \n",
       "1455561     840  0x24faed 610 days 13:00:00                             []   \n",
       "1455562     360  0x34be8c 685 days 00:00:00                  [Sundayvibes]   \n",
       "\n",
       "                                                      text hour           emo  \n",
       "0        People who post \"add me on #Snapchat\" must be ...   11  anticipation  \n",
       "1        @brianklaas As we see, Trump is dangerous to #...   04       sadness  \n",
       "2                      Now ISSA is stalking Tasha 😂😂😂 <LH>   23          fear  \n",
       "3        @RISKshow @TheKevinAllison Thx for the BEST TI...   04           joy  \n",
       "4             Still waiting on those supplies Liscus. <LH>   02  anticipation  \n",
       "...                                                    ...  ...           ...  \n",
       "1455558  I'm SO HAPPY!!! #NoWonder the name of this sho...   02           joy  \n",
       "1455559  In every circumtance I'd like to be thankful t...   08           joy  \n",
       "1455560  there's currently two girls walking around the...   23           joy  \n",
       "1455561  Ah, corporate life, where you can date <LH> us...   14           joy  \n",
       "1455562             Blessed to be living #Sundayvibes <LH>   01           joy  \n",
       "\n",
       "[1455563 rows x 7 columns]"
      ]
     },
     "execution_count": 28,
     "metadata": {},
     "output_type": "execute_result"
    }
   ],
   "source": [
    "train_df"
   ]
  },
  {
   "cell_type": "code",
   "execution_count": 36,
   "metadata": {},
   "outputs": [],
   "source": [
    "TAG_RE = re.compile(r'<[^>]+>')\n",
    "\n",
    "def preprocess_text(sen):\n",
    "    '''\n",
    "    Args: a string type sentence.\n",
    "    Return: a cleaned sentence that removed html tags, punctuations, numbers and other irrelevant information from the sentence.\n",
    "    '''\n",
    "    # Removing html tags\n",
    "    sentence = TAG_RE.sub('', sen)\n",
    "    # Remove punctuations and numbers\n",
    "    sentence = re.sub('[^a-zA-Z]', ' ', sentence)\n",
    "    # Single character removal\n",
    "    sentence = re.sub(r\"\\s+[a-zA-Z]\\s+\", ' ', sentence)\n",
    "    # Removing multiple spaces\n",
    "    sentence = re.sub(r'\\s+', ' ', sentence)\n",
    "    return sentence\n",
    "\n",
    "def tokenizer(data):\n",
    "    '''\n",
    "    Args: a list of string composed of sentences.\n",
    "    Return: tokenized sentence. (2D array)\n",
    "    '''\n",
    "    tokenize_model = CountVectorizer(max_features = 500, tokenizer=nltk.word_tokenize)\n",
    "    tokenize_model.fit(data['text'])\n",
    "    token_data = tokenize_model.transform(data['text'])\n",
    "\n",
    "    return token_data"
   ]
  },
  {
   "cell_type": "code",
   "execution_count": 39,
   "metadata": {},
   "outputs": [
    {
     "data": {
      "text/plain": [
       "'People who post add me on Snapchat must be dehydrated Cuz man that '"
      ]
     },
     "execution_count": 39,
     "metadata": {},
     "output_type": "execute_result"
    }
   ],
   "source": [
    "preprocess_text(train_df.text[0])"
   ]
  },
  {
   "cell_type": "code",
   "execution_count": 42,
   "metadata": {},
   "outputs": [],
   "source": [
    "train_tokens = train_df.text.apply(lambda x: preprocess_text(x))\n",
    "test_tokens = test_df.text.apply(lambda x: preprocess_text(x))\n",
    "# This process takes a while"
   ]
  },
  {
   "cell_type": "code",
   "execution_count": 43,
   "metadata": {},
   "outputs": [
    {
     "name": "stderr",
     "output_type": "stream",
     "text": [
      "c:\\Users\\megan\\python\\lib\\site-packages\\pandas\\core\\generic.py:5494: SettingWithCopyWarning: \n",
      "A value is trying to be set on a copy of a slice from a DataFrame.\n",
      "Try using .loc[row_indexer,col_indexer] = value instead\n",
      "\n",
      "See the caveats in the documentation: https://pandas.pydata.org/pandas-docs/stable/user_guide/indexing.html#returning-a-view-versus-a-copy\n",
      "  self[name] = value\n"
     ]
    }
   ],
   "source": [
    "train_df.text = train_tokens\n",
    "test_df.text = test_tokens"
   ]
  },
  {
   "cell_type": "code",
   "execution_count": 48,
   "metadata": {},
   "outputs": [],
   "source": [
    "# since _crawldate's dtype is [ns] calculated since 1911, it has a very large value.\n",
    "# scaling _score and _crawldate to values between 0-1 to eliminate the effects on our major training data i.e. text.\n",
    "scaler = MinMaxScaler()"
   ]
  },
  {
   "cell_type": "code",
   "execution_count": 62,
   "metadata": {},
   "outputs": [],
   "source": [
    "scaler.fit(train_df._crawldate.to_numpy().reshape(train_df.shape[0], 1))\n",
    "day_range = scaler.transform(train_df._crawldate.to_numpy().reshape(train_df.shape[0], 1))\n",
    "train_df._crawldate = day_range\n",
    "\n",
    "scaler.fit(test_df._crawldate.to_numpy().reshape(test_df.shape[0], 1))\n",
    "day_range = scaler.transform(test_df._crawldate.to_numpy().reshape(test_df.shape[0], 1))\n",
    "test_df._crawldate = day_range"
   ]
  },
  {
   "cell_type": "code",
   "execution_count": 49,
   "metadata": {},
   "outputs": [],
   "source": [
    "scaler.fit(train_df._score.to_numpy().reshape(train_df.shape[0], 1))\n",
    "score_range = scaler.transform(train_df._score.to_numpy().reshape(train_df.shape[0], 1))\n",
    "train_df._score = score_range\n",
    "\n",
    "scaler.fit(test_df._score.to_numpy().reshape(test_df.shape[0], 1))\n",
    "score_range = scaler.transform(test_df._score.to_numpy().reshape(test_df.shape[0], 1))\n",
    "test_df._score = score_range"
   ]
  },
  {
   "cell_type": "code",
   "execution_count": 50,
   "metadata": {},
   "outputs": [],
   "source": [
    "train_df.to_pickle('train_df.pkl')\n",
    "test_df.to_pickle('test_df.pkl')    # for faster access"
   ]
  },
  {
   "cell_type": "markdown",
   "metadata": {},
   "source": [
    "### **Begin Training Here**"
   ]
  },
  {
   "cell_type": "code",
   "execution_count": 2,
   "metadata": {},
   "outputs": [],
   "source": [
    "train_df = pd.read_pickle('train_df.pkl')\n",
    "test_df = pd.read_pickle('test_df.pkl')"
   ]
  },
  {
   "cell_type": "code",
   "execution_count": null,
   "metadata": {},
   "outputs": [],
   "source": [
    "train_df = train_df.sample(frac=0.5)    # not enough mem => sample the data"
   ]
  },
  {
   "cell_type": "code",
   "execution_count": 5,
   "metadata": {},
   "outputs": [
    {
     "data": {
      "text/plain": [
       "(727782, 7)"
      ]
     },
     "execution_count": 5,
     "metadata": {},
     "output_type": "execute_result"
    }
   ],
   "source": [
    "train_df.shape"
   ]
  },
  {
   "cell_type": "code",
   "execution_count": 6,
   "metadata": {},
   "outputs": [],
   "source": [
    "X_train, y_train = train_test_split(train_df, test_size = 0.3, random_state=42) # splitting training and evaluation data"
   ]
  },
  {
   "cell_type": "code",
   "execution_count": 7,
   "metadata": {},
   "outputs": [],
   "source": [
    "X_test = X_train.emo\n",
    "y_test = y_train.emo"
   ]
  },
  {
   "cell_type": "code",
   "execution_count": 8,
   "metadata": {},
   "outputs": [
    {
     "name": "stderr",
     "output_type": "stream",
     "text": [
      "c:\\Users\\megan\\python\\lib\\site-packages\\pandas\\core\\frame.py:4308: SettingWithCopyWarning: \n",
      "A value is trying to be set on a copy of a slice from a DataFrame\n",
      "\n",
      "See the caveats in the documentation: https://pandas.pydata.org/pandas-docs/stable/user_guide/indexing.html#returning-a-view-versus-a-copy\n",
      "  return super().drop(\n"
     ]
    }
   ],
   "source": [
    "X_train.drop(['emo', '_index', 'hashtags'], inplace=True, axis=1)\n",
    "y_train.drop(['emo', '_index', 'hashtags'], inplace=True, axis=1)   # dropping irrelevant information from the dataset"
   ]
  },
  {
   "cell_type": "code",
   "execution_count": 24,
   "metadata": {},
   "outputs": [],
   "source": [
    "import nltk\n",
    "\n",
    "# I have chosen bag-of-words to be my vectorizer\n",
    "BOW_500 = CountVectorizer(max_features=700, tokenizer=nltk.word_tokenize) \n",
    "\n",
    "# apply analyzer to training data\n",
    "BOW_500.fit(train_df['text'])\n",
    "\n",
    "train_features = BOW_500.transform(X_train.text)\n",
    "val_features = BOW_500.transform(y_train.text)"
   ]
  },
  {
   "cell_type": "markdown",
   "metadata": {},
   "source": [
    "> I have also tried TfidfVectorizer, bert and titan. The former do not perform as well as CountVectorizer, and so, when I tried to utilize BERT and Titan to embed my sentence list, my computer run out of mem, it could not allocate such large file. Therefore, I consulted with TA, and tried training it on Kaggle notebook then. However, Kaggle notebook displayed that everyone could get a 16G mem, I found out instead that the assigned Mem limit is actually 8G, which is still not enough for performing the task. QAQ"
   ]
  },
  {
   "cell_type": "code",
   "execution_count": 25,
   "metadata": {},
   "outputs": [],
   "source": [
    "train_features = train_features.toarray()\n",
    "val_features = val_features.toarray()"
   ]
  },
  {
   "cell_type": "markdown",
   "metadata": {},
   "source": [
    "> Additionally, I tried both training simple text and adding the other variable into the training dataset. I found out that some model performed slightly better on simple embedded text data, and some models had a better performance on text data with date and score information. I assumed that the reason of such difference comes from the different learning process and model's architecture."
   ]
  },
  {
   "cell_type": "code",
   "execution_count": null,
   "metadata": {},
   "outputs": [],
   "source": [
    "tmp = np.append(X_train._crawldate.to_numpy().reshape(X_train.shape[0], 1), np.array(X_train._score).reshape(X_train.shape[0], 1), axis=1)\n",
    "train_features = np.append(train_features.toarray(), tmp, axis=1).astype('float32')\n",
    "tmp = np.append(y_train._crawldate.to_numpy().reshape(y_train.shape[0], 1), np.array(y_train._score).reshape(y_train.shape[0], 1), axis=1)\n",
    "val_features = np.append(val_features.toarray(), tmp, axis=1).astype('float32')"
   ]
  },
  {
   "cell_type": "code",
   "execution_count": 17,
   "metadata": {},
   "outputs": [
    {
     "data": {
      "text/plain": [
       "((509447, 502), (509447,), (218335, 502), (218335,))"
      ]
     },
     "execution_count": 17,
     "metadata": {},
     "output_type": "execute_result"
    }
   ],
   "source": [
    "train_features.shape, X_test.shape, val_features.shape, y_test.shape"
   ]
  },
  {
   "cell_type": "code",
   "execution_count": 26,
   "metadata": {},
   "outputs": [],
   "source": [
    "target_features = BOW_500.transform(test_df.text)   # Embed Target test dataset"
   ]
  },
  {
   "cell_type": "code",
   "execution_count": null,
   "metadata": {},
   "outputs": [],
   "source": [
    "tmp = np.append(np.array(test_df._crawldate).reshape(test_df.shape[0], 1), np.array(test_df._score).reshape(test_df.shape[0], 1), axis=1)\n",
    "target_features = np.append(target_features.toarray(), tmp, axis=1)"
   ]
  },
  {
   "cell_type": "code",
   "execution_count": 14,
   "metadata": {},
   "outputs": [
    {
     "name": "stdout",
     "output_type": "stream",
     "text": [
      "check label:  ['anger' 'anticipation' 'disgust' 'fear' 'joy' 'sadness' 'surprise'\n",
      " 'trust']\n",
      "\n",
      "## Before convert\n",
      "test_df[0:7]:\n",
      " 1230778           trust\n",
      "4888               fear\n",
      "176012              joy\n",
      "1079570    anticipation\n",
      "875279            trust\n",
      "1097582             joy\n",
      "979455     anticipation\n",
      "Name: emo, dtype: object\n",
      "\n",
      "test_df.shape:  (727782,)\n",
      "\n",
      "\n",
      "## After convert\n",
      "test_df[0:7]:\n",
      " 1230778           trust\n",
      "4888               fear\n",
      "176012              joy\n",
      "1079570    anticipation\n",
      "875279            trust\n",
      "1097582             joy\n",
      "979455     anticipation\n",
      "Name: emo, dtype: object\n",
      "\n",
      "test_df.shape:  (727782,)\n"
     ]
    }
   ],
   "source": [
    "# introduce TA's code to encode the emotions\n",
    "label_encoder = LabelEncoder()\n",
    "label_encoder.fit(train_df.emo)  # learn categorical labels\n",
    "\n",
    "print('check label: ', label_encoder.classes_)\n",
    "print('\\n## Before convert')\n",
    "print('test_df[0:7]:\\n', train_df.emo[0:7])\n",
    "print('\\ntest_df.shape: ', train_df.emo.shape)\n",
    "\n",
    "def label_encode(le, labels):\n",
    "    enc = le.transform(labels)\n",
    "    return keras.utils.np_utils.to_categorical(enc)\n",
    "\n",
    "def label_decode(le, one_hot_label):\n",
    "    dec = np.argmax(one_hot_label, axis=1)\n",
    "    return le.inverse_transform(dec)\n",
    "\n",
    "x_test = label_encode(label_encoder, X_test)\n",
    "val_test = label_encode(label_encoder, y_test)\n",
    "\n",
    "\n",
    "print('\\n\\n## After convert')\n",
    "print('test_df[0:7]:\\n', train_df.emo[0:7])\n",
    "print('\\ntest_df.shape: ', train_df.emo.shape)"
   ]
  },
  {
   "cell_type": "code",
   "execution_count": 15,
   "metadata": {},
   "outputs": [
    {
     "name": "stdout",
     "output_type": "stream",
     "text": [
      "input_shape:  500\n",
      "output_shape:  8\n"
     ]
    }
   ],
   "source": [
    "# checking shapes\n",
    "input_shape = train_features.shape[1]\n",
    "print('input_shape: ', input_shape)\n",
    "\n",
    "output_shape = len(label_encoder.classes_)\n",
    "print('output_shape: ', output_shape)"
   ]
  },
  {
   "cell_type": "markdown",
   "metadata": {},
   "source": [
    "#### **Packages for constructing models**"
   ]
  },
  {
   "cell_type": "code",
   "execution_count": 16,
   "metadata": {},
   "outputs": [],
   "source": [
    "from keras.models import Model, Sequential\n",
    "from keras.layers import Input, Dense, Dropout, Bidirectional\n",
    "from keras.layers import Embedding, GRU, SimpleRNN, LSTM\n",
    "from keras.layers import ReLU, Softmax\n",
    "from keras.constraints import maxnorm\n",
    "import keras.backend as K"
   ]
  },
  {
   "cell_type": "markdown",
   "metadata": {},
   "source": [
    "#### **Transforming other training data by reshaping it into 3D dimensions.**"
   ]
  },
  {
   "cell_type": "code",
   "execution_count": 43,
   "metadata": {},
   "outputs": [],
   "source": [
    "# (batch, time step, word_length)\n",
    "lstm_train_features = train_features.reshape(5, train_features.shape[0], train_features.shape[1])\n",
    "lstm_val_features = val_features.reshape(5, val_features.shape[0], train_features.shape[1])"
   ]
  },
  {
   "cell_type": "code",
   "execution_count": null,
   "metadata": {},
   "outputs": [],
   "source": [
    "lstm_x_test = x_test.reshape(1, x_test.shape[0], x_test.shape[1])\n",
    "lstm_val_test = val_test.reshape(1, val_test.shape[0], val_test.shape[1])"
   ]
  },
  {
   "cell_type": "code",
   "execution_count": 79,
   "metadata": {},
   "outputs": [
    {
     "data": {
      "text/plain": [
       "(101889, 1202)"
      ]
     },
     "execution_count": 79,
     "metadata": {},
     "output_type": "execute_result"
    }
   ],
   "source": [
    "train_features.shape"
   ]
  },
  {
   "cell_type": "code",
   "execution_count": 45,
   "metadata": {},
   "outputs": [],
   "source": [
    "lstm_val_features = val_features.reshape(1, val_features.shape[0], val_features.shape[1])"
   ]
  },
  {
   "cell_type": "markdown",
   "metadata": {},
   "source": [
    "##### **First I utilize Decision tree model and Gaussian classifier, both of them are not performing well enough comparing to deep learning models. Therefore, this section focused on how I decided to construct model this way and the result, assumptions and inferences I made for such performance.**"
   ]
  },
  {
   "cell_type": "code",
   "execution_count": null,
   "metadata": {
    "colab": {
     "base_uri": "https://localhost:8080/"
    },
    "id": "jTeBWTvgYTpo",
    "outputId": "3e88d40f-2179-40ea-89c6-55085cabd1c6"
   },
   "outputs": [
    {
     "name": "stderr",
     "output_type": "stream",
     "text": [
      "2022-11-17 20:35:32.782745: I tensorflow/stream_executor/cuda/cuda_gpu_executor.cc:980] successful NUMA node read from SysFS had negative value (-1), but there must be at least one NUMA node, so returning NUMA node zero\n",
      "2022-11-17 20:35:32.783488: I tensorflow/stream_executor/cuda/cuda_gpu_executor.cc:980] successful NUMA node read from SysFS had negative value (-1), but there must be at least one NUMA node, so returning NUMA node zero\n",
      "2022-11-17 20:35:32.784100: W tensorflow/stream_executor/platform/default/dso_loader.cc:64] Could not load dynamic library 'libcudart.so.11.0'; dlerror: libcudart.so.11.0: cannot open shared object file: No such file or directory; LD_LIBRARY_PATH: /usr/local/cuda-10.2/lib64:/usr/local/cuda/lib64:/usr/local/cuda-10.1/lib64:/usr/local/cuda-11.3/lib64\n",
      "2022-11-17 20:35:32.784281: W tensorflow/stream_executor/platform/default/dso_loader.cc:64] Could not load dynamic library 'libcublas.so.11'; dlerror: libcublas.so.11: cannot open shared object file: No such file or directory; LD_LIBRARY_PATH: /usr/local/cuda-10.2/lib64:/usr/local/cuda/lib64:/usr/local/cuda-10.1/lib64:/usr/local/cuda-11.3/lib64\n",
      "2022-11-17 20:35:32.784383: W tensorflow/stream_executor/platform/default/dso_loader.cc:64] Could not load dynamic library 'libcublasLt.so.11'; dlerror: libcublasLt.so.11: cannot open shared object file: No such file or directory; LD_LIBRARY_PATH: /usr/local/cuda-10.2/lib64:/usr/local/cuda/lib64:/usr/local/cuda-10.1/lib64:/usr/local/cuda-11.3/lib64\n",
      "2022-11-17 20:35:32.964323: W tensorflow/stream_executor/platform/default/dso_loader.cc:64] Could not load dynamic library 'libcusolver.so.11'; dlerror: libcusolver.so.11: cannot open shared object file: No such file or directory; LD_LIBRARY_PATH: /usr/local/cuda-10.2/lib64:/usr/local/cuda/lib64:/usr/local/cuda-10.1/lib64:/usr/local/cuda-11.3/lib64\n",
      "2022-11-17 20:35:32.964522: W tensorflow/stream_executor/platform/default/dso_loader.cc:64] Could not load dynamic library 'libcusparse.so.11'; dlerror: libcusparse.so.11: cannot open shared object file: No such file or directory; LD_LIBRARY_PATH: /usr/local/cuda-10.2/lib64:/usr/local/cuda/lib64:/usr/local/cuda-10.1/lib64:/usr/local/cuda-11.3/lib64\n",
      "2022-11-17 20:35:32.981397: W tensorflow/core/common_runtime/gpu/gpu_device.cc:1934] Cannot dlopen some GPU libraries. Please make sure the missing libraries mentioned above are installed properly if you would like to use GPU. Follow the guide at https://www.tensorflow.org/install/gpu for how to download and setup the required libraries for your platform.\n",
      "Skipping registering GPU devices...\n",
      "2022-11-17 20:35:32.982815: I tensorflow/core/platform/cpu_feature_guard.cc:193] This TensorFlow binary is optimized with oneAPI Deep Neural Network Library (oneDNN) to use the following CPU instructions in performance-critical operations:  AVX2 FMA\n",
      "To enable them in other operations, rebuild TensorFlow with the appropriate compiler flags.\n"
     ]
    },
    {
     "name": "stdout",
     "output_type": "stream",
     "text": [
      "Model: \"model\"\n",
      "_________________________________________________________________\n",
      " Layer (type)                Output Shape              Param #   \n",
      "=================================================================\n",
      " input_1 (InputLayer)        [(None, 500)]             0         \n",
      "                                                                 \n",
      " dense (Dense)               (None, 64)                32064     \n",
      "                                                                 \n",
      " re_lu (ReLU)                (None, 64)                0         \n",
      "                                                                 \n",
      " dense_1 (Dense)             (None, 64)                4160      \n",
      "                                                                 \n",
      " re_lu_1 (ReLU)              (None, 64)                0         \n",
      "                                                                 \n",
      " dense_2 (Dense)             (None, 4)                 260       \n",
      "                                                                 \n",
      " softmax (Softmax)           (None, 4)                 0         \n",
      "                                                                 \n",
      "=================================================================\n",
      "Total params: 36,484\n",
      "Trainable params: 36,484\n",
      "Non-trainable params: 0\n",
      "_________________________________________________________________\n"
     ]
    }
   ],
   "source": [
    "from keras.models import Model\n",
    "from keras.layers import Input, Dense\n",
    "from keras.layers import ReLU, Softmax\n",
    "\n",
    "# input layer\n",
    "model_input = Input(shape=(input_shape, ))  # 500\n",
    "X = model_input\n",
    "\n",
    "# 1st hidden layer\n",
    "X_W1 = Dense(units=64)(X)  # 64\n",
    "H1 = ReLU()(X_W1)\n",
    "\n",
    "# 2nd hidden layer\n",
    "H1_W2 = Dense(units=64)(H1)  # 64\n",
    "H2 = ReLU()(H1_W2)\n",
    "\n",
    "# output layer\n",
    "H2_W3 = Dense(units=output_shape)(H2)  # 4\n",
    "H3 = Softmax()(H2_W3)\n",
    "\n",
    "model_output = H3\n",
    "\n",
    "# create model\n",
    "model = Model(inputs=[model_input], outputs=[model_output])\n",
    "\n",
    "# loss function & optimizer\n",
    "model.compile(optimizer='adam',\n",
    "              loss='categorical_crossentropy',\n",
    "              metrics=['accuracy'])\n",
    "\n",
    "# show model construction\n",
    "model.summary()"
   ]
  },
  {
   "cell_type": "markdown",
   "metadata": {},
   "source": [
    "#### **Introduce Sequence Self Attention machinism trying to get a better performance on Kaggle**\n",
    "- **Public Scoreboard: 0.387**\n",
    "- **Inference Latency: 352 min for frac(0.5) training dataset**\n",
    "- **Parameters: 540,754**"
   ]
  },
  {
   "cell_type": "code",
   "execution_count": 17,
   "metadata": {},
   "outputs": [
    {
     "name": "stdout",
     "output_type": "stream",
     "text": [
      "Model: \"sequential\"\n",
      "_________________________________________________________________\n",
      " Layer (type)                Output Shape              Param #   \n",
      "=================================================================\n",
      " embedding (Embedding)       (None, None, 256)         128000    \n",
      "                                                                 \n",
      " bidirectional (Bidirectiona  (None, None, 256)        394240    \n",
      " l)                                                              \n",
      "                                                                 \n",
      " seq_self_attention (SeqSelf  (None, None, 256)        16449     \n",
      " Attention)                                                      \n",
      "                                                                 \n",
      " dense (Dense)               (None, None, 8)           2056      \n",
      "                                                                 \n",
      "=================================================================\n",
      "Total params: 540,745\n",
      "Trainable params: 540,745\n",
      "Non-trainable params: 0\n",
      "_________________________________________________________________\n"
     ]
    }
   ],
   "source": [
    "from keras_self_attention import SeqSelfAttention\n",
    "\n",
    "\n",
    "model = keras.models.Sequential()\n",
    "model.add(keras.layers.Embedding(input_dim=input_shape,\n",
    "                                 output_dim=256,\n",
    "                                 mask_zero=True))\n",
    "\n",
    "model.add(keras.layers.Bidirectional(keras.layers.LSTM(units=128,\n",
    "                                                       return_sequences=True)))\n",
    "model.add(SeqSelfAttention(attention_activation='sigmoid'))\n",
    "model.add(keras.layers.Dense(units=8))\n",
    "\n",
    "model.compile(\n",
    "    optimizer='adam',\n",
    "    loss='categorical_crossentropy',\n",
    "    metrics=['categorical_accuracy'],\n",
    ")\n",
    "model.summary()"
   ]
  },
  {
   "cell_type": "markdown",
   "metadata": {},
   "source": [
    "I constructed this model becuase when I had applyed another attention layer on my other computer vision segmentation task, attention has a astonishing effect on the model's performance. However, since it was performed on my lab computer, it was fast and efficient. However, I supposed this attention layer may cost too much computing resources, which result in the slow training and inference time. Since it run slowly, and do not have a significant improvement. I abandoned this method."
   ]
  },
  {
   "cell_type": "markdown",
   "metadata": {},
   "source": [
    "#### **Trying Another LSTM bidirectional architecture**\n",
    "- **Public Scoreboard: 0.37175**\n",
    "- **Training Latency: 295 min for frac(0.5) training dataset**\n",
    "- **Parameters: 139,912**"
   ]
  },
  {
   "cell_type": "markdown",
   "metadata": {},
   "source": [
    "Since the first model do not performed well. I looked up professor's slides and done some research on Net, finding out that LSTM model can memorize the previous text and is capable for understand the entire sentence. And I read a paper that suggested stacking LSTM model could significantly boost model to learn from different former text and had a better generalization capability on testing data."
   ]
  },
  {
   "cell_type": "code",
   "execution_count": 24,
   "metadata": {},
   "outputs": [
    {
     "name": "stdout",
     "output_type": "stream",
     "text": [
      "Model: \"sequential_1\"\n",
      "_________________________________________________________________\n",
      " Layer (type)                Output Shape              Param #   \n",
      "=================================================================\n",
      " embedding_1 (Embedding)     (None, None, 64)          32128     \n",
      "                                                                 \n",
      " bidirectional_1 (Bidirectio  (None, None, 128)        66048     \n",
      " nal)                                                            \n",
      "                                                                 \n",
      " bidirectional_2 (Bidirectio  (None, 64)               41216     \n",
      " nal)                                                            \n",
      "                                                                 \n",
      " dense (Dense)               (None, 8)                 520       \n",
      "                                                                 \n",
      "=================================================================\n",
      "Total params: 139,912\n",
      "Trainable params: 139,912\n",
      "Non-trainable params: 0\n",
      "_________________________________________________________________\n",
      "Model: \"sequential_1\"\n",
      "_________________________________________________________________\n",
      " Layer (type)                Output Shape              Param #   \n",
      "=================================================================\n",
      " embedding_1 (Embedding)     (None, None, 64)          32128     \n",
      "                                                                 \n",
      " bidirectional_1 (Bidirectio  (None, None, 128)        66048     \n",
      " nal)                                                            \n",
      "                                                                 \n",
      " bidirectional_2 (Bidirectio  (None, 64)               41216     \n",
      " nal)                                                            \n",
      "                                                                 \n",
      " dense (Dense)               (None, 8)                 520       \n",
      "                                                                 \n",
      "=================================================================\n",
      "Total params: 139,912\n",
      "Trainable params: 139,912\n",
      "Non-trainable params: 0\n",
      "_________________________________________________________________\n"
     ]
    }
   ],
   "source": [
    "# input layer\n",
    "# input layer\n",
    "model = keras.Sequential()\n",
    "\n",
    "model.add(Embedding(input_dim=input_shape, output_dim = 64, mask_zero=True))\n",
    "model.add(Bidirectional(LSTM(64, return_sequences=True)))\n",
    "model.add(Bidirectional(LSTM(32, return_sequences=False)))\n",
    "model.add(Dense(8))\n",
    "\n",
    "model.summary()\n",
    "\n",
    "# loss function & optimizer\n",
    "model.compile(optimizer='adam',\n",
    "              loss='categorical_crossentropy',\n",
    "              metrics=['accuracy'])\n",
    "\n",
    "# show model construction\n",
    "model.summary()"
   ]
  },
  {
   "cell_type": "markdown",
   "metadata": {},
   "source": [
    "However, the result does not meet my supposition. While this is also costing me a lot of time to train, I again abadoned the method."
   ]
  },
  {
   "cell_type": "markdown",
   "metadata": {},
   "source": [
    "#### **Trying a deeper model architecture architecture**\n",
    "- **With only text information, Public Scoreboard: 0.40245**\n",
    "- **With crawldate and score, Public Scoreboard: 0.41337**\n",
    "- **Training Latency: 368 min for frac(0.5) training dataset**"
   ]
  },
  {
   "cell_type": "markdown",
   "metadata": {},
   "source": [
    "Deep learning orginiated from a deep model architecture. So I tried to construct my model with more layers. And since the model has a million parameters, I added the additional dropout layer to prevent the model from overfitting the training dataset."
   ]
  },
  {
   "cell_type": "code",
   "execution_count": 53,
   "metadata": {},
   "outputs": [
    {
     "name": "stdout",
     "output_type": "stream",
     "text": [
      "Model: \"sequential_6\"\n",
      "_________________________________________________________________\n",
      " Layer (type)                Output Shape              Param #   \n",
      "=================================================================\n",
      " dense_69 (Dense)            (None, 512)               358912    \n",
      "                                                                 \n",
      " dropout_61 (Dropout)        (None, 512)               0         \n",
      "                                                                 \n",
      " dense_70 (Dense)            (None, 256)               131328    \n",
      "                                                                 \n",
      " dropout_62 (Dropout)        (None, 256)               0         \n",
      "                                                                 \n",
      " dense_71 (Dense)            (None, 256)               65792     \n",
      "                                                                 \n",
      " dropout_63 (Dropout)        (None, 256)               0         \n",
      "                                                                 \n",
      " dense_72 (Dense)            (None, 256)               65792     \n",
      "                                                                 \n",
      " dropout_64 (Dropout)        (None, 256)               0         \n",
      "                                                                 \n",
      " dense_73 (Dense)            (None, 256)               65792     \n",
      "                                                                 \n",
      " dropout_65 (Dropout)        (None, 256)               0         \n",
      "                                                                 \n",
      " dense_74 (Dense)            (None, 256)               65792     \n",
      "                                                                 \n",
      " dropout_66 (Dropout)        (None, 256)               0         \n",
      "                                                                 \n",
      " dense_75 (Dense)            (None, 256)               65792     \n",
      "                                                                 \n",
      " dropout_67 (Dropout)        (None, 256)               0         \n",
      "                                                                 \n",
      " dense_76 (Dense)            (None, 256)               65792     \n",
      "                                                                 \n",
      " dropout_68 (Dropout)        (None, 256)               0         \n",
      "                                                                 \n",
      " dense_77 (Dense)            (None, 256)               65792     \n",
      "                                                                 \n",
      " dropout_69 (Dropout)        (None, 256)               0         \n",
      "                                                                 \n",
      " dense_78 (Dense)            (None, 256)               65792     \n",
      "                                                                 \n",
      " dropout_70 (Dropout)        (None, 256)               0         \n",
      "                                                                 \n",
      " dense_79 (Dense)            (None, 256)               65792     \n",
      "                                                                 \n",
      " dropout_71 (Dropout)        (None, 256)               0         \n",
      "                                                                 \n",
      " dense_80 (Dense)            (None, 256)               65792     \n",
      "                                                                 \n",
      " dropout_72 (Dropout)        (None, 256)               0         \n",
      "                                                                 \n",
      " dense_81 (Dense)            (None, 256)               65792     \n",
      "                                                                 \n",
      " dropout_73 (Dropout)        (None, 256)               0         \n",
      "                                                                 \n",
      " dense_82 (Dense)            (None, 256)               65792     \n",
      "                                                                 \n",
      " dropout_74 (Dropout)        (None, 256)               0         \n",
      "                                                                 \n",
      " dense_83 (Dense)            (None, 256)               65792     \n",
      "                                                                 \n",
      " dropout_75 (Dropout)        (None, 256)               0         \n",
      "                                                                 \n",
      " dense_84 (Dense)            (None, 8)                 2056      \n",
      "                                                                 \n",
      "=================================================================\n",
      "Total params: 1,347,592\n",
      "Trainable params: 1,347,592\n",
      "Non-trainable params: 0\n",
      "_________________________________________________________________\n"
     ]
    }
   ],
   "source": [
    "from tensorflow.keras import regularizers\n",
    "input_dim = train_features.shape[1]  # Number of features\n",
    "\n",
    "model = Sequential()\n",
    "model.add(Dense(512, \n",
    "                input_dim=input_dim, \n",
    "                activation='relu',\n",
    "                kernel_regularizer=regularizers.L1L2(l1=1e-5, l2=1e-4),\n",
    "                bias_regularizer=regularizers.L2(1e-4),\n",
    "                activity_regularizer=regularizers.L2(1e-5)))\n",
    "model.add(Dropout(0.3))\n",
    "model.add(Dense(256, \n",
    "                activation='relu',\n",
    "                kernel_regularizer=regularizers.L1L2(l1=1e-5, l2=1e-4),\n",
    "                bias_regularizer=regularizers.L2(1e-4),\n",
    "                activity_regularizer=regularizers.L2(1e-5)))\n",
    "model.add(Dropout(0.3))\n",
    "model.add(Dense(256, \n",
    "                activation='relu',\n",
    "                kernel_regularizer=regularizers.L1L2(l1=1e-5, l2=1e-4),\n",
    "                bias_regularizer=regularizers.L2(1e-4),\n",
    "                activity_regularizer=regularizers.L2(1e-5)))\n",
    "model.add(Dropout(0.3))\n",
    "model.add(Dense(256, \n",
    "                activation='relu',\n",
    "                kernel_regularizer=regularizers.L1L2(l1=1e-5, l2=1e-4),\n",
    "                bias_regularizer=regularizers.L2(1e-4),\n",
    "                activity_regularizer=regularizers.L2(1e-5)))\n",
    "model.add(Dropout(0.3))\n",
    "model.add(Dense(256, \n",
    "                activation='relu',\n",
    "                kernel_regularizer=regularizers.L1L2(l1=1e-5, l2=1e-4),\n",
    "                bias_regularizer=regularizers.L2(1e-4),\n",
    "                activity_regularizer=regularizers.L2(1e-5)))\n",
    "model.add(Dropout(0.3))\n",
    "model.add(Dense(256, \n",
    "                activation='relu',\n",
    "                kernel_regularizer=regularizers.L1L2(l1=1e-5, l2=1e-4),\n",
    "                bias_regularizer=regularizers.L2(1e-4),\n",
    "                activity_regularizer=regularizers.L2(1e-5)))\n",
    "model.add(Dropout(0.3))\n",
    "model.add(Dense(256, \n",
    "                activation='relu',\n",
    "                kernel_regularizer=regularizers.L1L2(l1=1e-5, l2=1e-4),\n",
    "                bias_regularizer=regularizers.L2(1e-4),\n",
    "                activity_regularizer=regularizers.L2(1e-5)))\n",
    "model.add(Dropout(0.3))\n",
    "model.add(Dense(256, \n",
    "                activation='relu',\n",
    "                kernel_regularizer=regularizers.L1L2(l1=1e-5, l2=1e-4),\n",
    "                bias_regularizer=regularizers.L2(1e-4),\n",
    "                activity_regularizer=regularizers.L2(1e-5)))\n",
    "model.add(Dropout(0.3))\n",
    "model.add(Dense(256, \n",
    "                activation='relu',\n",
    "                kernel_regularizer=regularizers.L1L2(l1=1e-5, l2=1e-4),\n",
    "                bias_regularizer=regularizers.L2(1e-4),\n",
    "                activity_regularizer=regularizers.L2(1e-5)))\n",
    "model.add(Dropout(0.3))\n",
    "model.add(Dense(256, \n",
    "                activation='relu',\n",
    "                kernel_regularizer=regularizers.L1L2(l1=1e-5, l2=1e-4),\n",
    "                bias_regularizer=regularizers.L2(1e-4),\n",
    "                activity_regularizer=regularizers.L2(1e-5)))\n",
    "model.add(Dropout(0.3))\n",
    "model.add(Dense(256, \n",
    "                activation='relu',\n",
    "                kernel_regularizer=regularizers.L1L2(l1=1e-5, l2=1e-4),\n",
    "                bias_regularizer=regularizers.L2(1e-4),\n",
    "                activity_regularizer=regularizers.L2(1e-5)))\n",
    "model.add(Dropout(0.3))\n",
    "model.add(Dense(256, \n",
    "                activation='relu',\n",
    "                kernel_regularizer=regularizers.L1L2(l1=1e-5, l2=1e-4),\n",
    "                bias_regularizer=regularizers.L2(1e-4),\n",
    "                activity_regularizer=regularizers.L2(1e-5)))\n",
    "model.add(Dropout(0.3))\n",
    "model.add(Dense(256, \n",
    "                activation='relu',\n",
    "                kernel_regularizer=regularizers.L1L2(l1=1e-5, l2=1e-4),\n",
    "                bias_regularizer=regularizers.L2(1e-4),\n",
    "                activity_regularizer=regularizers.L2(1e-5)))\n",
    "model.add(Dropout(0.3))\n",
    "model.add(Dense(256, \n",
    "                activation='relu',\n",
    "                kernel_regularizer=regularizers.L1L2(l1=1e-5, l2=1e-4),\n",
    "                bias_regularizer=regularizers.L2(1e-4),\n",
    "                activity_regularizer=regularizers.L2(1e-5)))\n",
    "model.add(Dropout(0.3))\n",
    "model.add(Dense(256, \n",
    "                activation='relu',\n",
    "                kernel_regularizer=regularizers.L1L2(l1=1e-5, l2=1e-4),\n",
    "                bias_regularizer=regularizers.L2(1e-4),\n",
    "                activity_regularizer=regularizers.L2(1e-5)))\n",
    "model.add(Dropout(0.3))\n",
    "model.add(Dense(8, activation='sigmoid'))\n",
    "\n",
    "model.summary()"
   ]
  },
  {
   "cell_type": "markdown",
   "metadata": {},
   "source": [
    "It was the best accuracy I can get. And this is the model that has a better performance with the additional information (date, score)."
   ]
  },
  {
   "cell_type": "markdown",
   "metadata": {},
   "source": [
    "#### **Trying BERT model**"
   ]
  },
  {
   "cell_type": "code",
   "execution_count": 56,
   "metadata": {},
   "outputs": [],
   "source": [
    "# A dependency of the preprocessing for BERT inputs\n",
    "# !pip install -q -U \"tensorflow-text==2.8.*\"\n",
    "# !pip install -q tf-models-official==2.7.0"
   ]
  },
  {
   "cell_type": "code",
   "execution_count": 57,
   "metadata": {},
   "outputs": [],
   "source": [
    "import os\n",
    "import shutil\n",
    "\n",
    "import tensorflow as tf\n",
    "import tensorflow_hub as hub\n",
    "import tensorflow_text as text\n",
    "from official.nlp import optimization  # to create AdamW optimizer\n",
    "\n",
    "import matplotlib.pyplot as plt\n",
    "\n",
    "tf.get_logger().setLevel('ERROR')"
   ]
  },
  {
   "cell_type": "code",
   "execution_count": 58,
   "metadata": {},
   "outputs": [
    {
     "name": "stdout",
     "output_type": "stream",
     "text": [
      "BERT model selected           : https://tfhub.dev/tensorflow/small_bert/bert_en_uncased_L-4_H-512_A-8/1\n",
      "Preprocess model auto-selected: https://tfhub.dev/tensorflow/bert_en_uncased_preprocess/3\n"
     ]
    }
   ],
   "source": [
    "bert_model_name = 'small_bert/bert_en_uncased_L-4_H-512_A-8' \n",
    "\n",
    "map_name_to_handle = {\n",
    "    'bert_en_uncased_L-12_H-768_A-12':\n",
    "        'https://tfhub.dev/tensorflow/bert_en_uncased_L-12_H-768_A-12/3',\n",
    "    'bert_en_cased_L-12_H-768_A-12':\n",
    "        'https://tfhub.dev/tensorflow/bert_en_cased_L-12_H-768_A-12/3',\n",
    "    'bert_multi_cased_L-12_H-768_A-12':\n",
    "        'https://tfhub.dev/tensorflow/bert_multi_cased_L-12_H-768_A-12/3',\n",
    "    'small_bert/bert_en_uncased_L-2_H-128_A-2':\n",
    "        'https://tfhub.dev/tensorflow/small_bert/bert_en_uncased_L-2_H-128_A-2/1',\n",
    "    'small_bert/bert_en_uncased_L-2_H-256_A-4':\n",
    "        'https://tfhub.dev/tensorflow/small_bert/bert_en_uncased_L-2_H-256_A-4/1',\n",
    "    'small_bert/bert_en_uncased_L-2_H-512_A-8':\n",
    "        'https://tfhub.dev/tensorflow/small_bert/bert_en_uncased_L-2_H-512_A-8/1',\n",
    "    'small_bert/bert_en_uncased_L-2_H-768_A-12':\n",
    "        'https://tfhub.dev/tensorflow/small_bert/bert_en_uncased_L-2_H-768_A-12/1',\n",
    "    'small_bert/bert_en_uncased_L-4_H-128_A-2':\n",
    "        'https://tfhub.dev/tensorflow/small_bert/bert_en_uncased_L-4_H-128_A-2/1',\n",
    "    'small_bert/bert_en_uncased_L-4_H-256_A-4':\n",
    "        'https://tfhub.dev/tensorflow/small_bert/bert_en_uncased_L-4_H-256_A-4/1',\n",
    "    'small_bert/bert_en_uncased_L-4_H-512_A-8':\n",
    "        'https://tfhub.dev/tensorflow/small_bert/bert_en_uncased_L-4_H-512_A-8/1',\n",
    "    'small_bert/bert_en_uncased_L-4_H-768_A-12':\n",
    "        'https://tfhub.dev/tensorflow/small_bert/bert_en_uncased_L-4_H-768_A-12/1',\n",
    "    'small_bert/bert_en_uncased_L-6_H-128_A-2':\n",
    "        'https://tfhub.dev/tensorflow/small_bert/bert_en_uncased_L-6_H-128_A-2/1',\n",
    "    'small_bert/bert_en_uncased_L-6_H-256_A-4':\n",
    "        'https://tfhub.dev/tensorflow/small_bert/bert_en_uncased_L-6_H-256_A-4/1',\n",
    "    'small_bert/bert_en_uncased_L-6_H-512_A-8':\n",
    "        'https://tfhub.dev/tensorflow/small_bert/bert_en_uncased_L-6_H-512_A-8/1',\n",
    "    'small_bert/bert_en_uncased_L-6_H-768_A-12':\n",
    "        'https://tfhub.dev/tensorflow/small_bert/bert_en_uncased_L-6_H-768_A-12/1',\n",
    "    'small_bert/bert_en_uncased_L-8_H-128_A-2':\n",
    "        'https://tfhub.dev/tensorflow/small_bert/bert_en_uncased_L-8_H-128_A-2/1',\n",
    "    'small_bert/bert_en_uncased_L-8_H-256_A-4':\n",
    "        'https://tfhub.dev/tensorflow/small_bert/bert_en_uncased_L-8_H-256_A-4/1',\n",
    "    'small_bert/bert_en_uncased_L-8_H-512_A-8':\n",
    "        'https://tfhub.dev/tensorflow/small_bert/bert_en_uncased_L-8_H-512_A-8/1',\n",
    "    'small_bert/bert_en_uncased_L-8_H-768_A-12':\n",
    "        'https://tfhub.dev/tensorflow/small_bert/bert_en_uncased_L-8_H-768_A-12/1',\n",
    "    'small_bert/bert_en_uncased_L-10_H-128_A-2':\n",
    "        'https://tfhub.dev/tensorflow/small_bert/bert_en_uncased_L-10_H-128_A-2/1',\n",
    "    'small_bert/bert_en_uncased_L-10_H-256_A-4':\n",
    "        'https://tfhub.dev/tensorflow/small_bert/bert_en_uncased_L-10_H-256_A-4/1',\n",
    "    'small_bert/bert_en_uncased_L-10_H-512_A-8':\n",
    "        'https://tfhub.dev/tensorflow/small_bert/bert_en_uncased_L-10_H-512_A-8/1',\n",
    "    'small_bert/bert_en_uncased_L-10_H-768_A-12':\n",
    "        'https://tfhub.dev/tensorflow/small_bert/bert_en_uncased_L-10_H-768_A-12/1',\n",
    "    'small_bert/bert_en_uncased_L-12_H-128_A-2':\n",
    "        'https://tfhub.dev/tensorflow/small_bert/bert_en_uncased_L-12_H-128_A-2/1',\n",
    "    'small_bert/bert_en_uncased_L-12_H-256_A-4':\n",
    "        'https://tfhub.dev/tensorflow/small_bert/bert_en_uncased_L-12_H-256_A-4/1',\n",
    "    'small_bert/bert_en_uncased_L-12_H-512_A-8':\n",
    "        'https://tfhub.dev/tensorflow/small_bert/bert_en_uncased_L-12_H-512_A-8/1',\n",
    "    'small_bert/bert_en_uncased_L-12_H-768_A-12':\n",
    "        'https://tfhub.dev/tensorflow/small_bert/bert_en_uncased_L-12_H-768_A-12/1',\n",
    "    'albert_en_base':\n",
    "        'https://tfhub.dev/tensorflow/albert_en_base/2',\n",
    "    'electra_small':\n",
    "        'https://tfhub.dev/google/electra_small/2',\n",
    "    'electra_base':\n",
    "        'https://tfhub.dev/google/electra_base/2',\n",
    "    'experts_pubmed':\n",
    "        'https://tfhub.dev/google/experts/bert/pubmed/2',\n",
    "    'experts_wiki_books':\n",
    "        'https://tfhub.dev/google/experts/bert/wiki_books/2',\n",
    "    'talking-heads_base':\n",
    "        'https://tfhub.dev/tensorflow/talkheads_ggelu_bert_en_base/1',\n",
    "}\n",
    "\n",
    "map_model_to_preprocess = {\n",
    "    'bert_en_uncased_L-12_H-768_A-12':\n",
    "        'https://tfhub.dev/tensorflow/bert_en_uncased_preprocess/3',\n",
    "    'bert_en_cased_L-12_H-768_A-12':\n",
    "        'https://tfhub.dev/tensorflow/bert_en_cased_preprocess/3',\n",
    "    'small_bert/bert_en_uncased_L-2_H-128_A-2':\n",
    "        'https://tfhub.dev/tensorflow/bert_en_uncased_preprocess/3',\n",
    "    'small_bert/bert_en_uncased_L-2_H-256_A-4':\n",
    "        'https://tfhub.dev/tensorflow/bert_en_uncased_preprocess/3',\n",
    "    'small_bert/bert_en_uncased_L-2_H-512_A-8':\n",
    "        'https://tfhub.dev/tensorflow/bert_en_uncased_preprocess/3',\n",
    "    'small_bert/bert_en_uncased_L-2_H-768_A-12':\n",
    "        'https://tfhub.dev/tensorflow/bert_en_uncased_preprocess/3',\n",
    "    'small_bert/bert_en_uncased_L-4_H-128_A-2':\n",
    "        'https://tfhub.dev/tensorflow/bert_en_uncased_preprocess/3',\n",
    "    'small_bert/bert_en_uncased_L-4_H-256_A-4':\n",
    "        'https://tfhub.dev/tensorflow/bert_en_uncased_preprocess/3',\n",
    "    'small_bert/bert_en_uncased_L-4_H-512_A-8':\n",
    "        'https://tfhub.dev/tensorflow/bert_en_uncased_preprocess/3',\n",
    "    'small_bert/bert_en_uncased_L-4_H-768_A-12':\n",
    "        'https://tfhub.dev/tensorflow/bert_en_uncased_preprocess/3',\n",
    "    'small_bert/bert_en_uncased_L-6_H-128_A-2':\n",
    "        'https://tfhub.dev/tensorflow/bert_en_uncased_preprocess/3',\n",
    "    'small_bert/bert_en_uncased_L-6_H-256_A-4':\n",
    "        'https://tfhub.dev/tensorflow/bert_en_uncased_preprocess/3',\n",
    "    'small_bert/bert_en_uncased_L-6_H-512_A-8':\n",
    "        'https://tfhub.dev/tensorflow/bert_en_uncased_preprocess/3',\n",
    "    'small_bert/bert_en_uncased_L-6_H-768_A-12':\n",
    "        'https://tfhub.dev/tensorflow/bert_en_uncased_preprocess/3',\n",
    "    'small_bert/bert_en_uncased_L-8_H-128_A-2':\n",
    "        'https://tfhub.dev/tensorflow/bert_en_uncased_preprocess/3',\n",
    "    'small_bert/bert_en_uncased_L-8_H-256_A-4':\n",
    "        'https://tfhub.dev/tensorflow/bert_en_uncased_preprocess/3',\n",
    "    'small_bert/bert_en_uncased_L-8_H-512_A-8':\n",
    "        'https://tfhub.dev/tensorflow/bert_en_uncased_preprocess/3',\n",
    "    'small_bert/bert_en_uncased_L-8_H-768_A-12':\n",
    "        'https://tfhub.dev/tensorflow/bert_en_uncased_preprocess/3',\n",
    "    'small_bert/bert_en_uncased_L-10_H-128_A-2':\n",
    "        'https://tfhub.dev/tensorflow/bert_en_uncased_preprocess/3',\n",
    "    'small_bert/bert_en_uncased_L-10_H-256_A-4':\n",
    "        'https://tfhub.dev/tensorflow/bert_en_uncased_preprocess/3',\n",
    "    'small_bert/bert_en_uncased_L-10_H-512_A-8':\n",
    "        'https://tfhub.dev/tensorflow/bert_en_uncased_preprocess/3',\n",
    "    'small_bert/bert_en_uncased_L-10_H-768_A-12':\n",
    "        'https://tfhub.dev/tensorflow/bert_en_uncased_preprocess/3',\n",
    "    'small_bert/bert_en_uncased_L-12_H-128_A-2':\n",
    "        'https://tfhub.dev/tensorflow/bert_en_uncased_preprocess/3',\n",
    "    'small_bert/bert_en_uncased_L-12_H-256_A-4':\n",
    "        'https://tfhub.dev/tensorflow/bert_en_uncased_preprocess/3',\n",
    "    'small_bert/bert_en_uncased_L-12_H-512_A-8':\n",
    "        'https://tfhub.dev/tensorflow/bert_en_uncased_preprocess/3',\n",
    "    'small_bert/bert_en_uncased_L-12_H-768_A-12':\n",
    "        'https://tfhub.dev/tensorflow/bert_en_uncased_preprocess/3',\n",
    "    'bert_multi_cased_L-12_H-768_A-12':\n",
    "        'https://tfhub.dev/tensorflow/bert_multi_cased_preprocess/3',\n",
    "    'albert_en_base':\n",
    "        'https://tfhub.dev/tensorflow/albert_en_preprocess/3',\n",
    "    'electra_small':\n",
    "        'https://tfhub.dev/tensorflow/bert_en_uncased_preprocess/3',\n",
    "    'electra_base':\n",
    "        'https://tfhub.dev/tensorflow/bert_en_uncased_preprocess/3',\n",
    "    'experts_pubmed':\n",
    "        'https://tfhub.dev/tensorflow/bert_en_uncased_preprocess/3',\n",
    "    'experts_wiki_books':\n",
    "        'https://tfhub.dev/tensorflow/bert_en_uncased_preprocess/3',\n",
    "    'talking-heads_base':\n",
    "        'https://tfhub.dev/tensorflow/bert_en_uncased_preprocess/3',\n",
    "}\n",
    "\n",
    "tfhub_handle_encoder = map_name_to_handle[bert_model_name]\n",
    "tfhub_handle_preprocess = map_model_to_preprocess[bert_model_name]\n",
    "\n",
    "print(f'BERT model selected           : {tfhub_handle_encoder}')\n",
    "print(f'Preprocess model auto-selected: {tfhub_handle_preprocess}')"
   ]
  },
  {
   "cell_type": "code",
   "execution_count": 59,
   "metadata": {},
   "outputs": [],
   "source": [
    "bert_preprocess_model = hub.KerasLayer(tfhub_handle_preprocess)\n",
    "bert_model = hub.KerasLayer(tfhub_handle_encoder)"
   ]
  },
  {
   "cell_type": "code",
   "execution_count": 60,
   "metadata": {},
   "outputs": [],
   "source": [
    "text_test = X_train.iloc[0].text\n",
    "text_preprocessed = bert_preprocess_model(text_test)\n",
    "bert_results = bert_model(text_preprocessed)\n",
    "\n",
    "print(f'Loaded BERT: {tfhub_handle_encoder}')\n",
    "print(f'Pooled Outputs Shape:{bert_results[\"pooled_output\"].shape}')\n",
    "print(f'Pooled Outputs Values:{bert_results[\"pooled_output\"][0, :12]}')\n",
    "print(f'Sequence Outputs Shape:{bert_results[\"sequence_output\"].shape}')\n",
    "print(f'Sequence Outputs Values:{bert_results[\"sequence_output\"][0, :12]}')"
   ]
  },
  {
   "cell_type": "code",
   "execution_count": null,
   "metadata": {},
   "outputs": [],
   "source": [
    "training_features_bert = bert_model(X_train.text)\n",
    "val_features_bert = bert_model(y_train.text)"
   ]
  },
  {
   "cell_type": "code",
   "execution_count": 61,
   "metadata": {},
   "outputs": [],
   "source": [
    "classifier_model = build_classifier_model()\n",
    "bert_raw_result = classifier_model(tf.constant(text_test))\n",
    "print(tf.sigmoid(bert_raw_result))"
   ]
  },
  {
   "cell_type": "markdown",
   "metadata": {},
   "source": [
    "I noticed it is really fast for the model to fit a single sentence, but when I tried to use this model fitting the fractioned training data (have tried 0.1, 0.5), the vectorized training, validation and testing data are too large to be allocated by 8GB on my computer memory (and also on Kaggle notebook) QAQ"
   ]
  },
  {
   "cell_type": "markdown",
   "metadata": {},
   "source": [
    "Hence, I thought, okay, if I was not able to utilize bert model to fit the text data,might I use its classifier model on bag of words vectorizer to acquire a better result."
   ]
  },
  {
   "cell_type": "code",
   "execution_count": null,
   "metadata": {},
   "outputs": [],
   "source": [
    "def build_classifier_model():\n",
    "    text_input = tf.keras.layers.Input(shape=(), dtype=tf.string, name='text')\n",
    "    preprocessing_layer = hub.KerasLayer(tfhub_handle_preprocess, name='preprocessing')\n",
    "    encoder_inputs = preprocessing_layer(text_input)\n",
    "    encoder = hub.KerasLayer(tfhub_handle_encoder, trainable=True, name='BERT_encoder')\n",
    "    outputs = encoder(encoder_inputs)\n",
    "    net = outputs['pooled_output']\n",
    "    net = tf.keras.layers.Dropout(0.1)(net)\n",
    "    net = tf.keras.layers.Dense(1, activation=None, name='classifier')(net)\n",
    "    return tf.keras.Model(text_input, net)"
   ]
  },
  {
   "cell_type": "code",
   "execution_count": null,
   "metadata": {},
   "outputs": [],
   "source": [
    "model.compile(optimizer='adam',\n",
    "              loss='categorical_crossentropy',\n",
    "              metrics=['accuracy'])"
   ]
  },
  {
   "cell_type": "markdown",
   "metadata": {},
   "source": [
    "Still, after training for 2 epochs, the process stopped and reported memory allocation error back to me..."
   ]
  },
  {
   "cell_type": "markdown",
   "metadata": {},
   "source": [
    "### **Predicting on testing dataset**"
   ]
  },
  {
   "cell_type": "code",
   "execution_count": null,
   "metadata": {},
   "outputs": [
    {
     "name": "stdout",
     "output_type": "stream",
     "text": [
      "Epoch 1/25\n",
      "16982/16982 [==============================] - 549s 32ms/step - loss: 1.7862 - accuracy: 0.3975 - val_loss: 1.6989 - val_accuracy: 0.4305\n",
      "Epoch 2/25\n",
      "16982/16982 [==============================] - 510s 30ms/step - loss: 1.7211 - accuracy: 0.4234 - val_loss: 1.6800 - val_accuracy: 0.4359\n",
      "Epoch 3/25\n",
      "16982/16982 [==============================] - 514s 30ms/step - loss: 1.7193 - accuracy: 0.4245 - val_loss: 1.6906 - val_accuracy: 0.4332\n",
      "Epoch 4/25\n",
      "16982/16982 [==============================] - 535s 32ms/step - loss: 1.7171 - accuracy: 0.4250 - val_loss: 1.7134 - val_accuracy: 0.4288\n",
      "Epoch 5/25\n",
      "16982/16982 [==============================] - 541s 32ms/step - loss: 1.7165 - accuracy: 0.4245 - val_loss: 1.6800 - val_accuracy: 0.4361\n",
      "Epoch 6/25\n",
      "16982/16982 [==============================] - 527s 31ms/step - loss: 1.7154 - accuracy: 0.4251 - val_loss: 1.6899 - val_accuracy: 0.4361\n",
      "Epoch 7/25\n",
      "16982/16982 [==============================] - 525s 31ms/step - loss: 1.7150 - accuracy: 0.4246 - val_loss: 1.6806 - val_accuracy: 0.4341\n",
      "Epoch 8/25\n",
      "16982/16982 [==============================] - 546s 32ms/step - loss: 1.7148 - accuracy: 0.4246 - val_loss: 1.6853 - val_accuracy: 0.4309\n",
      "Epoch 9/25\n",
      "16982/16982 [==============================] - 540s 32ms/step - loss: 1.7128 - accuracy: 0.4244 - val_loss: 1.6764 - val_accuracy: 0.4299\n",
      "Epoch 10/25\n",
      "16982/16982 [==============================] - 543s 32ms/step - loss: 1.7167 - accuracy: 0.4244 - val_loss: 1.6946 - val_accuracy: 0.4287\n",
      "Epoch 11/25\n",
      "16982/16982 [==============================] - 553s 33ms/step - loss: 1.7135 - accuracy: 0.4250 - val_loss: 1.6718 - val_accuracy: 0.4339\n",
      "Epoch 12/25\n",
      "16982/16982 [==============================] - 562s 33ms/step - loss: 1.7172 - accuracy: 0.4240 - val_loss: 1.6857 - val_accuracy: 0.4369\n",
      "Epoch 13/25\n",
      "16982/16982 [==============================] - 565s 33ms/step - loss: 1.7152 - accuracy: 0.4251 - val_loss: 1.6768 - val_accuracy: 0.4362\n",
      "Epoch 14/25\n",
      "16982/16982 [==============================] - 558s 33ms/step - loss: 1.7132 - accuracy: 0.4258 - val_loss: 1.6774 - val_accuracy: 0.4383\n",
      "Epoch 15/25\n",
      "16982/16982 [==============================] - 570s 34ms/step - loss: 1.7143 - accuracy: 0.4248 - val_loss: 1.6764 - val_accuracy: 0.4345\n",
      "Epoch 16/25\n",
      "16982/16982 [==============================] - 564s 33ms/step - loss: 1.7136 - accuracy: 0.4253 - val_loss: 1.6897 - val_accuracy: 0.4305\n",
      "Epoch 17/25\n",
      "16982/16982 [==============================] - 567s 33ms/step - loss: 1.7155 - accuracy: 0.4254 - val_loss: 1.6869 - val_accuracy: 0.4360\n",
      "Epoch 18/25\n",
      "16982/16982 [==============================] - 587s 35ms/step - loss: 1.7127 - accuracy: 0.4265 - val_loss: 1.6832 - val_accuracy: 0.4249\n",
      "Epoch 19/25\n",
      "16982/16982 [==============================] - 596s 35ms/step - loss: 1.7113 - accuracy: 0.4257 - val_loss: 1.6749 - val_accuracy: 0.4329\n",
      "Epoch 20/25\n",
      "16982/16982 [==============================] - 596s 35ms/step - loss: 1.7136 - accuracy: 0.4247 - val_loss: 1.6780 - val_accuracy: 0.4351\n",
      "Epoch 21/25\n",
      "16982/16982 [==============================] - 598s 35ms/step - loss: 1.7160 - accuracy: 0.4253 - val_loss: 1.6682 - val_accuracy: 0.4368\n",
      "Epoch 22/25\n",
      "16982/16982 [==============================] - 582s 34ms/step - loss: 1.7127 - accuracy: 0.4258 - val_loss: 1.6833 - val_accuracy: 0.4329\n",
      "Epoch 23/25\n",
      "16982/16982 [==============================] - 584s 34ms/step - loss: 1.7134 - accuracy: 0.4255 - val_loss: 1.6918 - val_accuracy: 0.4253\n",
      "Epoch 24/25\n",
      "16982/16982 [==============================] - 601s 35ms/step - loss: 1.7159 - accuracy: 0.4251 - val_loss: 1.6882 - val_accuracy: 0.4345\n",
      "Epoch 25/25\n",
      "16982/16982 [==============================] - 601s 35ms/step - loss: 1.7145 - accuracy: 0.4248 - val_loss: 1.6956 - val_accuracy: 0.4252\n",
      "training finish\n"
     ]
    }
   ],
   "source": [
    "# csv_logger = CSVLogger('logs/training_log.csv')\n",
    "model.compile(optimizer='adam',\n",
    "              loss='categorical_crossentropy',\n",
    "              metrics=['accuracy'])\n",
    "# training setting\n",
    "epochs = 25 # total num of iterations\n",
    "batch_size = 30 # pass 32 samples to the network at a time\n",
    "\n",
    "# training!\n",
    "history = model.fit(train_features, x_test, \n",
    "                    epochs=epochs, \n",
    "                    batch_size=batch_size, \n",
    "                    validation_data = (val_features, val_test))\n",
    "print('training finish')"
   ]
  },
  {
   "cell_type": "code",
   "execution_count": null,
   "metadata": {},
   "outputs": [
    {
     "data": {
      "text/plain": [
       "(218335, 8)"
      ]
     },
     "execution_count": 35,
     "metadata": {},
     "output_type": "execute_result"
    }
   ],
   "source": [
    "val_test.shape"
   ]
  },
  {
   "cell_type": "code",
   "execution_count": null,
   "metadata": {},
   "outputs": [],
   "source": [
    "lstm_target_features = target_features.reshape(1, target_features.shape[0], target_features.shape[1])"
   ]
  },
  {
   "cell_type": "code",
   "execution_count": null,
   "metadata": {},
   "outputs": [],
   "source": [
    "## predict\n",
    "target_pred = model.predict(target_features, batch_size=32)\n"
   ]
  },
  {
   "cell_type": "code",
   "execution_count": null,
   "metadata": {},
   "outputs": [
    {
     "data": {
      "text/plain": [
       "array(['joy', 'anticipation', 'joy', 'joy', 'anticipation'], dtype=object)"
      ]
     },
     "execution_count": 45,
     "metadata": {},
     "output_type": "execute_result"
    }
   ],
   "source": [
    "target_pred = label_decode(label_encoder, target_pred)\n",
    "target_pred[:5]"
   ]
  },
  {
   "cell_type": "code",
   "execution_count": null,
   "metadata": {},
   "outputs": [],
   "source": [
    "submission = pd.DataFrame(np.append(test_df['_index'].to_numpy().reshape(test_df.shape[0], 1), target_pred.reshape(test_df.shape[0], 1), axis=1), columns=['id', 'emotion'])\n",
    "submission.to_csv('submission.csv', index=False)"
   ]
  },
  {
   "cell_type": "markdown",
   "metadata": {},
   "source": [
    "## **Conclusion**"
   ]
  },
  {
   "cell_type": "markdown",
   "metadata": {},
   "source": [
    "Training models is expensive in a way that costing a lot of time and computing resources. Also, it is often that your assumptions do not meet your acquired results. It is really frustrated to get a result after waiting for nearly a day long to train the model. However, I find it interesting to explore different ways and the thinking process of how I could combine different element with the knowledge professor had taught in class to solve a real-life problem. I really have learned a lot from this assignment, and since I failed to train the BERT model on my computer, I was wondering that if the TAs have the time, could you demonstrate how to apply BERT model on a large dataset?\n",
    "Thank you for your work and lessons. I really appreciate it!"
   ]
  }
 ],
 "metadata": {
  "kernelspec": {
   "display_name": "Python 3.8.8 ('base')",
   "language": "python",
   "name": "python3"
  },
  "language_info": {
   "codemirror_mode": {
    "name": "ipython",
    "version": 3
   },
   "file_extension": ".py",
   "mimetype": "text/x-python",
   "name": "python",
   "nbconvert_exporter": "python",
   "pygments_lexer": "ipython3",
   "version": "3.8.8"
  },
  "varInspector": {
   "cols": {
    "lenName": 16,
    "lenType": 16,
    "lenVar": 40
   },
   "kernels_config": {
    "python": {
     "delete_cmd_postfix": "",
     "delete_cmd_prefix": "del ",
     "library": "var_list.py",
     "varRefreshCmd": "print(var_dic_list())"
    },
    "r": {
     "delete_cmd_postfix": ") ",
     "delete_cmd_prefix": "rm(",
     "library": "var_list.r",
     "varRefreshCmd": "cat(var_dic_list()) "
    }
   },
   "types_to_exclude": [
    "module",
    "function",
    "builtin_function_or_method",
    "instance",
    "_Feature"
   ],
   "window_display": false
  },
  "vscode": {
   "interpreter": {
    "hash": "17b6f5ac0cdde9bb0319db34b1228fea907021b8a20d2a4fdce6ac8225297b92"
   }
  }
 },
 "nbformat": 4,
 "nbformat_minor": 2
}
